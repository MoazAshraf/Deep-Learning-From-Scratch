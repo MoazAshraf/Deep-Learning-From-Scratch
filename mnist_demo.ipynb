{
 "cells": [
  {
   "cell_type": "code",
   "execution_count": 1,
   "metadata": {
    "scrolled": false
   },
   "outputs": [],
   "source": [
    "%load_ext autoreload\n",
    "%autoreload 2"
   ]
  },
  {
   "cell_type": "code",
   "execution_count": 2,
   "metadata": {},
   "outputs": [],
   "source": [
    "from sklearn.datasets import fetch_openml\n",
    "\n",
    "# load the MNIST dataset\n",
    "mnist_data = fetch_openml('mnist_784')"
   ]
  },
  {
   "cell_type": "code",
   "execution_count": 3,
   "metadata": {},
   "outputs": [
    {
     "name": "stdout",
     "output_type": "stream",
     "text": [
      "(70000, 784)\n",
      "(70000,)\n"
     ]
    }
   ],
   "source": [
    "print(mnist_data['data'].shape)\n",
    "print(mnist_data['target'].shape)\n",
    "\n",
    "X = mnist_data['data']\n",
    "y = mnist_data['target']"
   ]
  },
  {
   "cell_type": "code",
   "execution_count": 4,
   "metadata": {},
   "outputs": [
    {
     "name": "stdout",
     "output_type": "stream",
     "text": [
      "(60000, 784)\n",
      "(60000,)\n",
      "(10000, 784)\n",
      "(10000,)\n"
     ]
    }
   ],
   "source": [
    "from sklearn.model_selection import train_test_split\n",
    "\n",
    "# split the data into training and test sets\n",
    "X_train, X_test, y_train, y_test = train_test_split(X, y, test_size=1/7, random_state=42)\n",
    "print(X_train.shape)\n",
    "print(y_train.shape)\n",
    "print(X_test.shape)\n",
    "print(y_test.shape)"
   ]
  },
  {
   "cell_type": "code",
   "execution_count": 5,
   "metadata": {},
   "outputs": [
    {
     "data": {
      "image/png": "[encoded data removed]",
      "text/plain": [
       "<Figure size 432x288 with 1 Axes>"
      ]
     },
     "metadata": {
      "needs_background": "light"
     },
     "output_type": "display_data"
    }
   ],
   "source": [
    "%matplotlib inline\n",
    "import matplotlib.pyplot as plt\n",
    "\n",
    "index = 2\n",
    "\n",
    "# plot an example\n",
    "def plot_example(X, y):\n",
    "    plt.imshow(X.reshape(28, 28), cmap='binary')\n",
    "    plt.axis(False)\n",
    "    plt.title(f\"{y}\")\n",
    "\n",
    "plot_example(X_train[index], y_train[index])\n",
    "plt.show()"
   ]
  },
  {
   "cell_type": "code",
   "execution_count": 6,
   "metadata": {},
   "outputs": [
    {
     "data": {
      "image/png": "[encoded data removed]",
      "text/plain": [
       "<Figure size 288x288 with 4 Axes>"
      ]
     },
     "metadata": {
      "needs_background": "light"
     },
     "output_type": "display_data"
    }
   ],
   "source": [
    "# plot a few examples\n",
    "fig = plt.figure(figsize=(4, 4))\n",
    "\n",
    "for i in range(4):\n",
    "    fig.add_subplot(2, 2, i+1)\n",
    "    plot_example(X_train[i], y_train[i])\n",
    "\n",
    "fig.tight_layout()\n",
    "plt.show()"
   ]
  },
  {
   "cell_type": "code",
   "execution_count": 7,
   "metadata": {},
   "outputs": [],
   "source": [
    "import numpy as np\n",
    "\n",
    "def one_hot_encode(x, num_classes=10):\n",
    "    x_one_hot = x.astype(int).reshape(-1)\n",
    "    x_one_hot = np.eye(num_classes)[x_one_hot]\n",
    "    return x_one_hot\n",
    "\n",
    "# one-hot encode labels\n",
    "y_train_one_hot = one_hot_encode(y_train)\n",
    "y_test_one_hot = one_hot_encode(y_test)"
   ]
  },
  {
   "cell_type": "code",
   "execution_count": 8,
   "metadata": {},
   "outputs": [],
   "source": [
    "# normalize the inputs\n",
    "X_train_normalized = X_train / 255.0\n",
    "X_test_normalized = X_test / 255.0"
   ]
  },
  {
   "cell_type": "code",
   "execution_count": 20,
   "metadata": {},
   "outputs": [],
   "source": [
    "from models import Sequential\n",
    "from layers import Linear, ReLU, Softmax, Tanh\n",
    "\n",
    "# create the model\n",
    "model = Sequential()\n",
    "model.add(Linear(16, input_shape=(784,)))\n",
    "model.add(Tanh())\n",
    "model.add(Linear(16))\n",
    "model.add(Tanh())\n",
    "model.add(Linear(10))\n",
    "model.add(Softmax())"
   ]
  },
  {
   "cell_type": "code",
   "execution_count": 21,
   "metadata": {},
   "outputs": [
    {
     "name": "stdout",
     "output_type": "stream",
     "text": [
      "loss=2.533491 \tcategorical_accuracy=0.119383\n",
      "(2.533490848701337, [0.119383335])\n"
     ]
    }
   ],
   "source": [
    "from losses import CategoricalCrossentropy\n",
    "from metrics import categorical_accuracy\n",
    "\n",
    "# prepare the model for training\n",
    "model.configure(loss=CategoricalCrossentropy(),\n",
    "                learning_rate=0.1,\n",
    "                metrics=[categorical_accuracy])\n",
    "\n",
    "print(model.evaluate(X_train_normalized, y_train_one_hot))"
   ]
  },
  {
   "cell_type": "code",
   "execution_count": 22,
   "metadata": {},
   "outputs": [
    {
     "name": "stdout",
     "output_type": "stream",
     "text": [
      "Epoch 01\tloss=2.355569 \tcategorical_accuracy=0.150633\n",
      "Epoch 02\tloss=2.253747 \tcategorical_accuracy=0.152367\n",
      "Epoch 03\tloss=2.209003 \tcategorical_accuracy=0.164417\n",
      "Epoch 04\tloss=2.002513 \tcategorical_accuracy=0.305783\n",
      "Epoch 05\tloss=1.910109 \tcategorical_accuracy=0.360233\n",
      "Epoch 06\tloss=1.806674 \tcategorical_accuracy=0.448833\n",
      "Epoch 07\tloss=1.743967 \tcategorical_accuracy=0.447950\n",
      "Epoch 08\tloss=1.686838 \tcategorical_accuracy=0.509233\n",
      "Epoch 09\tloss=1.651680 \tcategorical_accuracy=0.481000\n",
      "Epoch 10\tloss=1.610607 \tcategorical_accuracy=0.541983\n",
      "Epoch 11\tloss=1.588629 \tcategorical_accuracy=0.498950\n",
      "Epoch 12\tloss=1.545826 \tcategorical_accuracy=0.566250\n",
      "Epoch 13\tloss=1.521601 \tcategorical_accuracy=0.530267\n",
      "Epoch 14\tloss=1.475369 \tcategorical_accuracy=0.595733\n",
      "Epoch 15\tloss=1.448238 \tcategorical_accuracy=0.571050\n",
      "Epoch 16\tloss=1.408808 \tcategorical_accuracy=0.623967\n",
      "Epoch 17\tloss=1.383390 \tcategorical_accuracy=0.604517\n",
      "Epoch 18\tloss=1.351314 \tcategorical_accuracy=0.648633\n",
      "Epoch 19\tloss=1.327831 \tcategorical_accuracy=0.631533\n",
      "Epoch 20\tloss=1.300245 \tcategorical_accuracy=0.670033\n",
      "Epoch 21\tloss=1.278015 \tcategorical_accuracy=0.656367\n",
      "Epoch 22\tloss=1.253295 \tcategorical_accuracy=0.689883\n",
      "Epoch 23\tloss=1.232229 \tcategorical_accuracy=0.679483\n",
      "Epoch 24\tloss=1.209831 \tcategorical_accuracy=0.706917\n",
      "Epoch 25\tloss=1.190133 \tcategorical_accuracy=0.699350\n",
      "Epoch 26\tloss=1.169889 \tcategorical_accuracy=0.722367\n",
      "Epoch 27\tloss=1.151709 \tcategorical_accuracy=0.718383\n",
      "Epoch 28\tloss=1.133483 \tcategorical_accuracy=0.736250\n",
      "Epoch 29\tloss=1.116835 \tcategorical_accuracy=0.732917\n",
      "Epoch 30\tloss=1.100437 \tcategorical_accuracy=0.747733\n",
      "Epoch 31\tloss=1.085233 \tcategorical_accuracy=0.745583\n",
      "Epoch 32\tloss=1.070428 \tcategorical_accuracy=0.757433\n",
      "Epoch 33\tloss=1.056523 \tcategorical_accuracy=0.756383\n",
      "Epoch 34\tloss=1.043066 \tcategorical_accuracy=0.765433\n",
      "Epoch 35\tloss=1.030290 \tcategorical_accuracy=0.765383\n",
      "Epoch 36\tloss=1.017950 \tcategorical_accuracy=0.772617\n",
      "Epoch 37\tloss=1.006134 \tcategorical_accuracy=0.773017\n",
      "Epoch 38\tloss=0.994711 \tcategorical_accuracy=0.779383\n",
      "Epoch 39\tloss=0.983700 \tcategorical_accuracy=0.779967\n",
      "Epoch 40\tloss=0.973031 \tcategorical_accuracy=0.785167\n",
      "Epoch 41\tloss=0.962696 \tcategorical_accuracy=0.786450\n",
      "Epoch 42\tloss=0.952656 \tcategorical_accuracy=0.789883\n",
      "Epoch 43\tloss=0.942895 \tcategorical_accuracy=0.791800\n",
      "Epoch 44\tloss=0.933391 \tcategorical_accuracy=0.794467\n",
      "Epoch 45\tloss=0.924129 \tcategorical_accuracy=0.796417\n",
      "Epoch 46\tloss=0.915094 \tcategorical_accuracy=0.799083\n",
      "Epoch 47\tloss=0.906276 \tcategorical_accuracy=0.801083\n",
      "Epoch 48\tloss=0.897663 \tcategorical_accuracy=0.803200\n",
      "Epoch 49\tloss=0.889248 \tcategorical_accuracy=0.805150\n",
      "Epoch 50\tloss=0.881021 \tcategorical_accuracy=0.807000\n",
      "Epoch 51\tloss=0.872976 \tcategorical_accuracy=0.808750\n",
      "Epoch 52\tloss=0.865107 \tcategorical_accuracy=0.810283\n",
      "Epoch 53\tloss=0.857407 \tcategorical_accuracy=0.811900\n",
      "Epoch 54\tloss=0.849871 \tcategorical_accuracy=0.813617\n",
      "Epoch 55\tloss=0.842493 \tcategorical_accuracy=0.815133\n",
      "Epoch 56\tloss=0.835269 \tcategorical_accuracy=0.816517\n",
      "Epoch 57\tloss=0.828193 \tcategorical_accuracy=0.818383\n",
      "Epoch 58\tloss=0.821262 \tcategorical_accuracy=0.820117\n",
      "Epoch 59\tloss=0.814471 \tcategorical_accuracy=0.821717\n",
      "Epoch 60\tloss=0.807815 \tcategorical_accuracy=0.823150\n",
      "Epoch 61\tloss=0.801291 \tcategorical_accuracy=0.824700\n",
      "Epoch 62\tloss=0.794895 \tcategorical_accuracy=0.825583\n",
      "Epoch 63\tloss=0.788624 \tcategorical_accuracy=0.826900\n",
      "Epoch 64\tloss=0.782473 \tcategorical_accuracy=0.828233\n",
      "Epoch 65\tloss=0.776440 \tcategorical_accuracy=0.829167\n",
      "Epoch 66\tloss=0.770522 \tcategorical_accuracy=0.830233\n",
      "Epoch 67\tloss=0.764714 \tcategorical_accuracy=0.831233\n",
      "Epoch 68\tloss=0.759015 \tcategorical_accuracy=0.832417\n",
      "Epoch 69\tloss=0.753421 \tcategorical_accuracy=0.833533\n",
      "Epoch 70\tloss=0.747930 \tcategorical_accuracy=0.834850\n",
      "Epoch 71\tloss=0.742539 \tcategorical_accuracy=0.835783\n",
      "Epoch 72\tloss=0.737246 \tcategorical_accuracy=0.837000\n",
      "Epoch 73\tloss=0.732048 \tcategorical_accuracy=0.838100\n",
      "Epoch 74\tloss=0.726942 \tcategorical_accuracy=0.839100\n",
      "Epoch 75\tloss=0.721927 \tcategorical_accuracy=0.840117\n",
      "Epoch 76\tloss=0.716999 \tcategorical_accuracy=0.840950\n",
      "Epoch 77\tloss=0.712158 \tcategorical_accuracy=0.841800\n",
      "Epoch 78\tloss=0.707401 \tcategorical_accuracy=0.842633\n",
      "Epoch 79\tloss=0.702726 \tcategorical_accuracy=0.843517\n",
      "Epoch 80\tloss=0.698131 \tcategorical_accuracy=0.844250\n",
      "Epoch 81\tloss=0.693614 \tcategorical_accuracy=0.845033\n",
      "Epoch 82\tloss=0.689174 \tcategorical_accuracy=0.845883\n",
      "Epoch 83\tloss=0.684808 \tcategorical_accuracy=0.847000\n",
      "Epoch 84\tloss=0.680516 \tcategorical_accuracy=0.847983\n",
      "Epoch 85\tloss=0.676294 \tcategorical_accuracy=0.849017\n",
      "Epoch 86\tloss=0.672143 \tcategorical_accuracy=0.849883\n",
      "Epoch 87\tloss=0.668059 \tcategorical_accuracy=0.850583\n",
      "Epoch 88\tloss=0.664043 \tcategorical_accuracy=0.851400\n",
      "Epoch 89\tloss=0.660091 \tcategorical_accuracy=0.852083\n",
      "Epoch 90\tloss=0.656204 \tcategorical_accuracy=0.852833\n",
      "Epoch 91\tloss=0.652379 \tcategorical_accuracy=0.853400\n",
      "Epoch 92\tloss=0.648615 \tcategorical_accuracy=0.853917\n",
      "Epoch 93\tloss=0.644911 \tcategorical_accuracy=0.854550\n",
      "Epoch 94\tloss=0.641266 \tcategorical_accuracy=0.855267\n",
      "Epoch 95\tloss=0.637678 \tcategorical_accuracy=0.855917\n",
      "Epoch 96\tloss=0.634146 \tcategorical_accuracy=0.856567\n",
      "Epoch 97\tloss=0.630669 \tcategorical_accuracy=0.857400\n",
      "Epoch 98\tloss=0.627246 \tcategorical_accuracy=0.858150\n",
      "Epoch 99\tloss=0.623875 \tcategorical_accuracy=0.858883\n",
      "Epoch 100\tloss=0.620557 \tcategorical_accuracy=0.859417\n"
     ]
    }
   ],
   "source": [
    "# train the model\n",
    "model.train(X_train_normalized, y_train_one_hot, epochs=100);"
   ]
  },
  {
   "cell_type": "code",
   "execution_count": 19,
   "metadata": {},
   "outputs": [
    {
     "data": {
      "image/png": "[encoded data removed]",
      "text/plain": [
       "<Figure size 288x288 with 4 Axes>"
      ]
     },
     "metadata": {
      "needs_background": "light"
     },
     "output_type": "display_data"
    }
   ],
   "source": [
    "y_pred = np.argmax(model(X_train), axis=-1)\n",
    "\n",
    "# plot a few predictions\n",
    "fig = plt.figure(figsize=(4, 4))\n",
    "\n",
    "for i in range(4):\n",
    "    fig.add_subplot(2, 2, i+1)\n",
    "    plot_example(X_train[i+100], y_pred[i+100])\n",
    "\n",
    "fig.tight_layout()\n",
    "plt.show()"
   ]
  },
  {
   "cell_type": "code",
   "execution_count": 20,
   "metadata": {},
   "outputs": [
    {
     "data": {
      "image/png": "[encoded data removed]",
      "text/plain": [
       "<Figure size 432x288 with 1 Axes>"
      ]
     },
     "metadata": {
      "needs_background": "light"
     },
     "output_type": "display_data"
    },
    {
     "data": {
      "image/png": "[encoded data removed]",
      "text/plain": [
       "<Figure size 432x288 with 1 Axes>"
      ]
     },
     "metadata": {
      "needs_background": "light"
     },
     "output_type": "display_data"
    }
   ],
   "source": [
    "index = 10\n",
    "\n",
    "plot_example(X_train[index], y_train[index])\n",
    "plt.show()\n",
    "\n",
    "# trying to visualize the activation of the first layer\n",
    "A1 = model.layers[0].forward(X_train[index])\n",
    "A1 = A1.reshape(4, 4)\n",
    "plt.imshow(A1)\n",
    "plt.show()"
   ]
  }
 ],
 "metadata": {
  "kernelspec": {
   "display_name": "Python 3.7.3 64-bit",
   "language": "python",
   "name": "python37364bit5171d068c3054b8f80dd7b7dde0249a4"
  },
  "language_info": {
   "codemirror_mode": {
    "name": "ipython",
    "version": 3
   },
   "file_extension": ".py",
   "mimetype": "text/x-python",
   "name": "python",
   "nbconvert_exporter": "python",
   "pygments_lexer": "ipython3",
   "version": "3.7.3"
  }
 },
 "nbformat": 4,
 "nbformat_minor": 2
}
