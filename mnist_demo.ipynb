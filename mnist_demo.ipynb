{
 "cells": [
  {
   "cell_type": "code",
   "execution_count": 1,
   "metadata": {
    "scrolled": false
   },
   "outputs": [],
   "source": [
    "%load_ext autoreload\n",
    "%autoreload 2"
   ]
  },
  {
   "cell_type": "code",
   "execution_count": 2,
   "metadata": {},
   "outputs": [],
   "source": [
    "from sklearn.datasets import fetch_openml\n",
    "\n",
    "# load the MNIST dataset\n",
    "mnist_data = fetch_openml('mnist_784')"
   ]
  },
  {
   "cell_type": "code",
   "execution_count": 3,
   "metadata": {},
   "outputs": [
    {
     "name": "stdout",
     "output_type": "stream",
     "text": [
      "(7000, 784)\n",
      "(7000,)\n"
     ]
    }
   ],
   "source": [
    "# using a smaller dataset\n",
    "X = mnist_data['data'][:7000]\n",
    "y = mnist_data['target'][:7000]\n",
    "\n",
    "print(X.shape)\n",
    "print(y.shape)"
   ]
  },
  {
   "cell_type": "code",
   "execution_count": 4,
   "metadata": {},
   "outputs": [
    {
     "name": "stdout",
     "output_type": "stream",
     "text": [
      "(6000, 784)\n",
      "(6000,)\n",
      "(1000, 784)\n",
      "(1000,)\n"
     ]
    }
   ],
   "source": [
    "from sklearn.model_selection import train_test_split\n",
    "\n",
    "# split the data into training and test sets\n",
    "X_train, X_test, y_train, y_test = train_test_split(X, y, test_size=1/7, random_state=42)\n",
    "print(X_train.shape)\n",
    "print(y_train.shape)\n",
    "print(X_test.shape)\n",
    "print(y_test.shape)"
   ]
  },
  {
   "cell_type": "code",
   "execution_count": 5,
   "metadata": {},
   "outputs": [
    {
     "data": {
      "image/png": "[encoded data removed]",
      "text/plain": [
       "<Figure size 432x288 with 1 Axes>"
      ]
     },
     "metadata": {
      "needs_background": "light"
     },
     "output_type": "display_data"
    }
   ],
   "source": [
    "%matplotlib inline\n",
    "import matplotlib.pyplot as plt\n",
    "\n",
    "index = 2\n",
    "\n",
    "# plot an example\n",
    "def plot_example(X, y):\n",
    "    plt.imshow(X.reshape(28, 28), cmap='binary')\n",
    "    plt.axis(False)\n",
    "    plt.title(f\"{y}\")\n",
    "\n",
    "plot_example(X_train[index], y_train[index])\n",
    "plt.show()"
   ]
  },
  {
   "cell_type": "code",
   "execution_count": 6,
   "metadata": {},
   "outputs": [
    {
     "data": {
      "image/png": "[encoded data removed]",
      "text/plain": [
       "<Figure size 288x288 with 4 Axes>"
      ]
     },
     "metadata": {
      "needs_background": "light"
     },
     "output_type": "display_data"
    }
   ],
   "source": [
    "# plot a few examples\n",
    "fig = plt.figure(figsize=(4, 4))\n",
    "\n",
    "for i in range(4):\n",
    "    fig.add_subplot(2, 2, i+1)\n",
    "    plot_example(X_train[i], y_train[i])\n",
    "\n",
    "fig.tight_layout()\n",
    "plt.show()"
   ]
  },
  {
   "cell_type": "code",
   "execution_count": 8,
   "metadata": {},
   "outputs": [],
   "source": [
    "import numpy as np\n",
    "\n",
    "def one_hot_encode(x, num_classes=10):\n",
    "    x_one_hot = x.astype(int).reshape(-1)\n",
    "    x_one_hot = np.eye(num_classes)[x_one_hot]\n",
    "    return x_one_hot\n",
    "\n",
    "# one-hot encode labels\n",
    "y_train_one_hot = one_hot_encode(y_train)\n",
    "y_test_one_hot = one_hot_encode(y_test)"
   ]
  },
  {
   "cell_type": "code",
   "execution_count": 9,
   "metadata": {},
   "outputs": [],
   "source": [
    "# normalize the inputs\n",
    "X_train_normalized = X_train / 255.0\n",
    "X_test_normalized = X_test / 255.0"
   ]
  },
  {
   "cell_type": "code",
   "execution_count": 58,
   "metadata": {},
   "outputs": [],
   "source": [
    "from models import Sequential\n",
    "from layers import Linear, ReLU, Softmax, Tanh\n",
    "from initializers import random_normal\n",
    "\n",
    "# create the model\n",
    "model = Sequential()\n",
    "model.add(Linear(128, input_shape=(784,)))\n",
    "model.add(ReLU())\n",
    "model.add(Linear(64))\n",
    "model.add(ReLU())\n",
    "model.add(Linear(10))\n",
    "model.add(Softmax())"
   ]
  },
  {
   "cell_type": "code",
   "execution_count": 59,
   "metadata": {},
   "outputs": [
    {
     "name": "stdout",
     "output_type": "stream",
     "text": [
      "loss=2.447899\tval_loss=2.462140\tacc=0.100667\tval_acc=0.096000\n"
     ]
    }
   ],
   "source": [
    "from losses import CategoricalCrossentropy\n",
    "from metrics import categorical_accuracy\n",
    "\n",
    "# prepare the model for training\n",
    "model.configure(loss=CategoricalCrossentropy(),\n",
    "                learning_rate=0.1,\n",
    "                metrics={\"acc\": categorical_accuracy})\n",
    "\n",
    "model.evaluate(X_train_normalized, y_train_one_hot, X_test_normalized, y_test_one_hot);"
   ]
  },
  {
   "cell_type": "code",
   "execution_count": 60,
   "metadata": {},
   "outputs": [
    {
     "name": "stdout",
     "output_type": "stream",
     "text": [
      "Epoch 01\tloss=0.342545\tval_loss=0.409998\tacc=0.904333\tval_acc=0.882000\n",
      "Epoch 02\tloss=0.208419\tval_loss=0.286628\tacc=0.943833\tval_acc=0.922000\n",
      "Epoch 03\tloss=0.146860\tval_loss=0.244675\tacc=0.961833\tval_acc=0.924000\n",
      "Epoch 04\tloss=0.104859\tval_loss=0.223710\tacc=0.973000\tval_acc=0.930000\n",
      "Epoch 05\tloss=0.087511\tval_loss=0.214520\tacc=0.975833\tval_acc=0.933000\n",
      "Epoch 06\tloss=0.065601\tval_loss=0.212445\tacc=0.985333\tval_acc=0.933000\n",
      "Epoch 07\tloss=0.056522\tval_loss=0.222963\tacc=0.988500\tval_acc=0.932000\n",
      "Epoch 08\tloss=0.056067\tval_loss=0.241967\tacc=0.984000\tval_acc=0.932000\n",
      "Epoch 09\tloss=0.029254\tval_loss=0.205427\tacc=0.995500\tval_acc=0.942000\n",
      "Epoch 10\tloss=0.090840\tval_loss=0.299323\tacc=0.973500\tval_acc=0.914000\n",
      "Epoch 11\tloss=0.023898\tval_loss=0.221314\tacc=0.996000\tval_acc=0.943000\n",
      "Epoch 12\tloss=0.016540\tval_loss=0.217986\tacc=0.999000\tval_acc=0.943000\n",
      "Epoch 13\tloss=0.011227\tval_loss=0.214789\tacc=0.999667\tval_acc=0.943000\n",
      "Epoch 14\tloss=0.008636\tval_loss=0.211240\tacc=0.999833\tval_acc=0.947000\n",
      "Epoch 15\tloss=0.007358\tval_loss=0.219286\tacc=0.999833\tval_acc=0.941000\n",
      "Epoch 16\tloss=0.007834\tval_loss=0.224236\tacc=0.999833\tval_acc=0.940000\n",
      "Epoch 17\tloss=0.006101\tval_loss=0.222990\tacc=0.999833\tval_acc=0.945000\n",
      "Epoch 18\tloss=0.004888\tval_loss=0.227120\tacc=1.000000\tval_acc=0.947000\n",
      "Epoch 19\tloss=0.004575\tval_loss=0.229883\tacc=1.000000\tval_acc=0.945000\n",
      "Epoch 20\tloss=0.003994\tval_loss=0.230508\tacc=1.000000\tval_acc=0.944000\n",
      "Epoch 21\tloss=0.003583\tval_loss=0.232581\tacc=1.000000\tval_acc=0.946000\n",
      "Epoch 22\tloss=0.003235\tval_loss=0.234994\tacc=1.000000\tval_acc=0.946000\n",
      "Epoch 23\tloss=0.002991\tval_loss=0.237539\tacc=1.000000\tval_acc=0.948000\n",
      "Epoch 24\tloss=0.003020\tval_loss=0.240470\tacc=1.000000\tval_acc=0.945000\n",
      "Epoch 25\tloss=0.002609\tval_loss=0.239219\tacc=1.000000\tval_acc=0.946000\n",
      "Epoch 26\tloss=0.002459\tval_loss=0.239489\tacc=1.000000\tval_acc=0.946000\n",
      "Epoch 27\tloss=0.002277\tval_loss=0.239869\tacc=1.000000\tval_acc=0.948000\n",
      "Epoch 28\tloss=0.002157\tval_loss=0.240536\tacc=1.000000\tval_acc=0.947000\n",
      "Epoch 29\tloss=0.002063\tval_loss=0.244794\tacc=1.000000\tval_acc=0.946000\n",
      "Epoch 30\tloss=0.001925\tval_loss=0.242812\tacc=1.000000\tval_acc=0.948000\n",
      "Epoch 31\tloss=0.001819\tval_loss=0.244884\tacc=1.000000\tval_acc=0.946000\n",
      "Epoch 32\tloss=0.001756\tval_loss=0.248854\tacc=1.000000\tval_acc=0.948000\n",
      "Epoch 33\tloss=0.001655\tval_loss=0.248577\tacc=1.000000\tval_acc=0.946000\n",
      "Epoch 34\tloss=0.001580\tval_loss=0.251695\tacc=1.000000\tval_acc=0.947000\n",
      "Epoch 35\tloss=0.001504\tval_loss=0.252540\tacc=1.000000\tval_acc=0.948000\n",
      "Epoch 36\tloss=0.001453\tval_loss=0.252846\tacc=1.000000\tval_acc=0.947000\n",
      "Epoch 37\tloss=0.001393\tval_loss=0.255761\tacc=1.000000\tval_acc=0.947000\n",
      "Epoch 38\tloss=0.001366\tval_loss=0.253771\tacc=1.000000\tval_acc=0.945000\n",
      "Epoch 39\tloss=0.001287\tval_loss=0.254372\tacc=1.000000\tval_acc=0.947000\n",
      "Epoch 40\tloss=0.001236\tval_loss=0.256579\tacc=1.000000\tval_acc=0.947000\n",
      "Epoch 41\tloss=0.001206\tval_loss=0.257209\tacc=1.000000\tval_acc=0.947000\n",
      "Epoch 42\tloss=0.001162\tval_loss=0.260104\tacc=1.000000\tval_acc=0.948000\n",
      "Epoch 43\tloss=0.001130\tval_loss=0.259178\tacc=1.000000\tval_acc=0.948000\n",
      "Epoch 44\tloss=0.001083\tval_loss=0.260111\tacc=1.000000\tval_acc=0.948000\n",
      "Epoch 45\tloss=0.001051\tval_loss=0.260701\tacc=1.000000\tval_acc=0.948000\n",
      "Epoch 46\tloss=0.001012\tval_loss=0.260934\tacc=1.000000\tval_acc=0.947000\n",
      "Epoch 47\tloss=0.000978\tval_loss=0.262812\tacc=1.000000\tval_acc=0.947000\n",
      "Epoch 48\tloss=0.000967\tval_loss=0.264731\tacc=1.000000\tval_acc=0.947000\n",
      "Epoch 49\tloss=0.000931\tval_loss=0.262593\tacc=1.000000\tval_acc=0.947000\n",
      "Epoch 50\tloss=0.000899\tval_loss=0.265308\tacc=1.000000\tval_acc=0.947000\n",
      "Epoch 51\tloss=0.000882\tval_loss=0.264081\tacc=1.000000\tval_acc=0.947000\n",
      "Epoch 52\tloss=0.000855\tval_loss=0.265352\tacc=1.000000\tval_acc=0.947000\n",
      "Epoch 53\tloss=0.000835\tval_loss=0.266975\tacc=1.000000\tval_acc=0.947000\n",
      "Epoch 54\tloss=0.000806\tval_loss=0.266662\tacc=1.000000\tval_acc=0.947000\n",
      "Epoch 55\tloss=0.000787\tval_loss=0.268133\tacc=1.000000\tval_acc=0.947000\n",
      "Epoch 56\tloss=0.000772\tval_loss=0.270000\tacc=1.000000\tval_acc=0.947000\n",
      "Epoch 57\tloss=0.000755\tval_loss=0.270340\tacc=1.000000\tval_acc=0.947000\n",
      "Epoch 58\tloss=0.000741\tval_loss=0.269033\tacc=1.000000\tval_acc=0.947000\n",
      "Epoch 59\tloss=0.000715\tval_loss=0.270210\tacc=1.000000\tval_acc=0.947000\n",
      "Epoch 60\tloss=0.000703\tval_loss=0.270493\tacc=1.000000\tval_acc=0.947000\n",
      "Epoch 61\tloss=0.000686\tval_loss=0.271234\tacc=1.000000\tval_acc=0.947000\n",
      "Epoch 62\tloss=0.000667\tval_loss=0.271356\tacc=1.000000\tval_acc=0.947000\n",
      "Epoch 63\tloss=0.000653\tval_loss=0.271772\tacc=1.000000\tval_acc=0.947000\n",
      "Epoch 64\tloss=0.000643\tval_loss=0.273280\tacc=1.000000\tval_acc=0.947000\n",
      "Epoch 65\tloss=0.000627\tval_loss=0.273766\tacc=1.000000\tval_acc=0.947000\n",
      "Epoch 66\tloss=0.000613\tval_loss=0.274974\tacc=1.000000\tval_acc=0.947000\n",
      "Epoch 67\tloss=0.000607\tval_loss=0.275124\tacc=1.000000\tval_acc=0.947000\n",
      "Epoch 68\tloss=0.000589\tval_loss=0.275154\tacc=1.000000\tval_acc=0.947000\n",
      "Epoch 69\tloss=0.000578\tval_loss=0.276222\tacc=1.000000\tval_acc=0.947000\n",
      "Epoch 70\tloss=0.000569\tval_loss=0.277995\tacc=1.000000\tval_acc=0.946000\n",
      "Epoch 71\tloss=0.000556\tval_loss=0.276838\tacc=1.000000\tval_acc=0.947000\n",
      "Epoch 72\tloss=0.000546\tval_loss=0.277074\tacc=1.000000\tval_acc=0.947000\n",
      "Epoch 73\tloss=0.000537\tval_loss=0.277696\tacc=1.000000\tval_acc=0.947000\n",
      "Epoch 74\tloss=0.000526\tval_loss=0.277838\tacc=1.000000\tval_acc=0.947000\n",
      "Epoch 75\tloss=0.000518\tval_loss=0.278674\tacc=1.000000\tval_acc=0.947000\n",
      "Epoch 76\tloss=0.000508\tval_loss=0.278899\tacc=1.000000\tval_acc=0.947000\n",
      "Epoch 77\tloss=0.000500\tval_loss=0.279083\tacc=1.000000\tval_acc=0.947000\n",
      "Epoch 78\tloss=0.000493\tval_loss=0.279693\tacc=1.000000\tval_acc=0.949000\n",
      "Epoch 79\tloss=0.000484\tval_loss=0.280294\tacc=1.000000\tval_acc=0.947000\n",
      "Epoch 80\tloss=0.000476\tval_loss=0.280684\tacc=1.000000\tval_acc=0.947000\n",
      "Epoch 81\tloss=0.000467\tval_loss=0.281921\tacc=1.000000\tval_acc=0.947000\n",
      "Epoch 82\tloss=0.000459\tval_loss=0.282024\tacc=1.000000\tval_acc=0.947000\n",
      "Epoch 83\tloss=0.000452\tval_loss=0.282817\tacc=1.000000\tval_acc=0.947000\n",
      "Epoch 84\tloss=0.000445\tval_loss=0.282678\tacc=1.000000\tval_acc=0.947000\n",
      "Epoch 85\tloss=0.000439\tval_loss=0.283074\tacc=1.000000\tval_acc=0.947000\n",
      "Epoch 86\tloss=0.000432\tval_loss=0.283622\tacc=1.000000\tval_acc=0.947000\n",
      "Epoch 87\tloss=0.000425\tval_loss=0.283800\tacc=1.000000\tval_acc=0.947000\n",
      "Epoch 88\tloss=0.000420\tval_loss=0.284383\tacc=1.000000\tval_acc=0.947000\n",
      "Epoch 89\tloss=0.000412\tval_loss=0.284535\tacc=1.000000\tval_acc=0.947000\n",
      "Epoch 90\tloss=0.000407\tval_loss=0.285330\tacc=1.000000\tval_acc=0.947000\n",
      "Epoch 91\tloss=0.000401\tval_loss=0.285107\tacc=1.000000\tval_acc=0.948000\n",
      "Epoch 92\tloss=0.000395\tval_loss=0.285276\tacc=1.000000\tval_acc=0.948000\n",
      "Epoch 93\tloss=0.000389\tval_loss=0.285936\tacc=1.000000\tval_acc=0.947000\n",
      "Epoch 94\tloss=0.000384\tval_loss=0.285994\tacc=1.000000\tval_acc=0.947000\n",
      "Epoch 95\tloss=0.000380\tval_loss=0.286686\tacc=1.000000\tval_acc=0.947000\n",
      "Epoch 96\tloss=0.000374\tval_loss=0.287392\tacc=1.000000\tval_acc=0.947000\n",
      "Epoch 97\tloss=0.000370\tval_loss=0.287818\tacc=1.000000\tval_acc=0.947000\n",
      "Epoch 98\tloss=0.000365\tval_loss=0.287693\tacc=1.000000\tval_acc=0.948000\n",
      "Epoch 99\tloss=0.000359\tval_loss=0.287833\tacc=1.000000\tval_acc=0.947000\n",
      "Epoch 100\tloss=0.000356\tval_loss=0.288558\tacc=1.000000\tval_acc=0.947000\n"
     ]
    }
   ],
   "source": [
    "# train the model\n",
    "model.train(X_train_normalized, y_train_one_hot, X_test_normalized, y_test_one_hot, epochs=100);"
   ]
  },
  {
   "cell_type": "markdown",
   "metadata": {},
   "source": [
    "The model is overfitting the training set. Now let's see what regularization can do."
   ]
  },
  {
   "cell_type": "code",
   "execution_count": 61,
   "metadata": {},
   "outputs": [
    {
     "name": "stdout",
     "output_type": "stream",
     "text": [
      "loss=2.415818\tval_loss=2.414152\tacc=0.101167\tval_acc=0.109000\n",
      "{'loss': 2.415818135993831, 'val_loss': 2.4141518865143707, 'acc': 0.101166666, 'val_acc': 0.109}\n"
     ]
    }
   ],
   "source": [
    "from regularizers import L2\n",
    "\n",
    "# create the model\n",
    "l2_model = Sequential()\n",
    "l2_model.add(Linear(128, input_shape=(784,), kernel_regularizer=L2(0.1)))\n",
    "l2_model.add(ReLU())\n",
    "l2_model.add(Linear(64, kernel_regularizer=L2(0.1)))\n",
    "l2_model.add(ReLU())\n",
    "l2_model.add(Linear(10, kernel_regularizer=L2(0.1)))\n",
    "l2_model.add(Softmax())\n",
    "\n",
    "# prepare the model for training\n",
    "l2_model.configure(loss=CategoricalCrossentropy(),\n",
    "                learning_rate=0.1,\n",
    "                metrics={'acc': categorical_accuracy})\n",
    "\n",
    "print(l2_model.evaluate(X_train_normalized, y_train_one_hot, X_test_normalized, y_test_one_hot))"
   ]
  },
  {
   "cell_type": "code",
   "execution_count": 62,
   "metadata": {},
   "outputs": [
    {
     "name": "stdout",
     "output_type": "stream",
     "text": [
      "Epoch 01\tloss=0.330923\tval_loss=0.372362\tacc=0.915000\tval_acc=0.897000\n",
      "Epoch 02\tloss=0.234574\tval_loss=0.286734\tacc=0.939333\tval_acc=0.916000\n",
      "Epoch 03\tloss=0.232643\tval_loss=0.294940\tacc=0.937000\tval_acc=0.907000\n",
      "Epoch 04\tloss=0.182060\tval_loss=0.251668\tacc=0.951500\tval_acc=0.926000\n",
      "Epoch 05\tloss=0.160020\tval_loss=0.239100\tacc=0.959167\tval_acc=0.931000\n",
      "Epoch 06\tloss=0.158191\tval_loss=0.239383\tacc=0.960667\tval_acc=0.935000\n",
      "Epoch 07\tloss=0.158676\tval_loss=0.254820\tacc=0.958333\tval_acc=0.924000\n",
      "Epoch 08\tloss=0.138349\tval_loss=0.224250\tacc=0.970500\tval_acc=0.943000\n",
      "Epoch 09\tloss=0.146989\tval_loss=0.240984\tacc=0.965333\tval_acc=0.926000\n",
      "Epoch 10\tloss=0.134212\tval_loss=0.229746\tacc=0.969000\tval_acc=0.935000\n",
      "Epoch 11\tloss=0.138815\tval_loss=0.229675\tacc=0.965833\tval_acc=0.928000\n",
      "Epoch 12\tloss=0.132031\tval_loss=0.222521\tacc=0.969333\tval_acc=0.932000\n",
      "Epoch 13\tloss=0.130675\tval_loss=0.224420\tacc=0.969000\tval_acc=0.936000\n",
      "Epoch 14\tloss=0.121612\tval_loss=0.212326\tacc=0.976333\tval_acc=0.945000\n",
      "Epoch 15\tloss=0.134003\tval_loss=0.243403\tacc=0.970667\tval_acc=0.938000\n",
      "Epoch 16\tloss=0.112545\tval_loss=0.206375\tacc=0.978000\tval_acc=0.934000\n",
      "Epoch 17\tloss=0.117173\tval_loss=0.207641\tacc=0.974333\tval_acc=0.947000\n",
      "Epoch 18\tloss=0.110641\tval_loss=0.206641\tacc=0.978833\tval_acc=0.943000\n",
      "Epoch 19\tloss=0.111249\tval_loss=0.208641\tacc=0.976500\tval_acc=0.941000\n",
      "Epoch 20\tloss=0.106945\tval_loss=0.199096\tacc=0.981000\tval_acc=0.948000\n",
      "Epoch 21\tloss=0.116863\tval_loss=0.223516\tacc=0.973833\tval_acc=0.939000\n",
      "Epoch 22\tloss=0.105598\tval_loss=0.208719\tacc=0.981167\tval_acc=0.943000\n",
      "Epoch 23\tloss=0.098074\tval_loss=0.201633\tacc=0.984667\tval_acc=0.946000\n",
      "Epoch 24\tloss=0.109146\tval_loss=0.215494\tacc=0.976667\tval_acc=0.939000\n",
      "Epoch 25\tloss=0.141631\tval_loss=0.257244\tacc=0.963333\tval_acc=0.929000\n",
      "Epoch 26\tloss=0.100792\tval_loss=0.199818\tacc=0.983333\tval_acc=0.949000\n",
      "Epoch 27\tloss=0.101043\tval_loss=0.210214\tacc=0.981333\tval_acc=0.937000\n",
      "Epoch 28\tloss=0.109321\tval_loss=0.218636\tacc=0.977000\tval_acc=0.945000\n",
      "Epoch 29\tloss=0.096628\tval_loss=0.193813\tacc=0.983333\tval_acc=0.948000\n",
      "Epoch 30\tloss=0.091615\tval_loss=0.194398\tacc=0.985500\tval_acc=0.945000\n",
      "Epoch 31\tloss=0.099434\tval_loss=0.205276\tacc=0.979167\tval_acc=0.946000\n",
      "Epoch 32\tloss=0.092621\tval_loss=0.192750\tacc=0.985667\tval_acc=0.950000\n",
      "Epoch 33\tloss=0.090679\tval_loss=0.199629\tacc=0.986000\tval_acc=0.946000\n",
      "Epoch 34\tloss=0.102263\tval_loss=0.204798\tacc=0.981000\tval_acc=0.940000\n",
      "Epoch 35\tloss=0.091819\tval_loss=0.194487\tacc=0.986000\tval_acc=0.946000\n",
      "Epoch 36\tloss=0.093976\tval_loss=0.199762\tacc=0.982333\tval_acc=0.943000\n",
      "Epoch 37\tloss=0.090783\tval_loss=0.198445\tacc=0.987000\tval_acc=0.948000\n",
      "Epoch 38\tloss=0.087326\tval_loss=0.195182\tacc=0.986500\tval_acc=0.946000\n",
      "Epoch 39\tloss=0.084936\tval_loss=0.189576\tacc=0.987500\tval_acc=0.951000\n",
      "Epoch 40\tloss=0.091809\tval_loss=0.194693\tacc=0.985833\tval_acc=0.949000\n",
      "Epoch 41\tloss=0.101230\tval_loss=0.211576\tacc=0.980667\tval_acc=0.941000\n",
      "Epoch 42\tloss=0.090512\tval_loss=0.196484\tacc=0.984500\tval_acc=0.944000\n",
      "Epoch 43\tloss=0.124895\tval_loss=0.244480\tacc=0.970833\tval_acc=0.934000\n",
      "Epoch 44\tloss=0.094646\tval_loss=0.204050\tacc=0.985000\tval_acc=0.943000\n",
      "Epoch 45\tloss=0.085277\tval_loss=0.191457\tacc=0.987000\tval_acc=0.946000\n",
      "Epoch 46\tloss=0.094892\tval_loss=0.203479\tacc=0.985167\tval_acc=0.951000\n",
      "Epoch 47\tloss=0.093839\tval_loss=0.202977\tacc=0.984167\tval_acc=0.948000\n",
      "Epoch 48\tloss=0.088108\tval_loss=0.188263\tacc=0.986833\tval_acc=0.952000\n",
      "Epoch 49\tloss=0.088509\tval_loss=0.194687\tacc=0.986667\tval_acc=0.946000\n",
      "Epoch 50\tloss=0.090168\tval_loss=0.195754\tacc=0.984000\tval_acc=0.949000\n",
      "Epoch 51\tloss=0.087293\tval_loss=0.192105\tacc=0.987333\tval_acc=0.949000\n",
      "Epoch 52\tloss=0.089536\tval_loss=0.195798\tacc=0.985667\tval_acc=0.948000\n",
      "Epoch 53\tloss=0.083407\tval_loss=0.189974\tacc=0.989333\tval_acc=0.948000\n",
      "Epoch 54\tloss=0.088760\tval_loss=0.201344\tacc=0.986333\tval_acc=0.943000\n",
      "Epoch 55\tloss=0.088314\tval_loss=0.193379\tacc=0.986833\tval_acc=0.951000\n",
      "Epoch 56\tloss=0.107153\tval_loss=0.217587\tacc=0.979500\tval_acc=0.939000\n",
      "Epoch 57\tloss=0.085725\tval_loss=0.188441\tacc=0.987667\tval_acc=0.950000\n",
      "Epoch 58\tloss=0.095948\tval_loss=0.206564\tacc=0.982500\tval_acc=0.939000\n",
      "Epoch 59\tloss=0.085957\tval_loss=0.186658\tacc=0.987833\tval_acc=0.948000\n",
      "Epoch 60\tloss=0.094441\tval_loss=0.208104\tacc=0.981333\tval_acc=0.947000\n",
      "Epoch 61\tloss=0.100766\tval_loss=0.201734\tacc=0.983667\tval_acc=0.941000\n",
      "Epoch 62\tloss=0.085855\tval_loss=0.194760\tacc=0.987167\tval_acc=0.946000\n",
      "Epoch 63\tloss=0.085349\tval_loss=0.191240\tacc=0.988500\tval_acc=0.948000\n",
      "Epoch 64\tloss=0.088280\tval_loss=0.189540\tacc=0.986167\tval_acc=0.948000\n",
      "Epoch 65\tloss=0.092008\tval_loss=0.199700\tacc=0.984000\tval_acc=0.946000\n",
      "Epoch 66\tloss=0.086126\tval_loss=0.194287\tacc=0.985833\tval_acc=0.947000\n",
      "Epoch 67\tloss=0.083058\tval_loss=0.190744\tacc=0.988833\tval_acc=0.949000\n",
      "Epoch 68\tloss=0.093164\tval_loss=0.204432\tacc=0.984667\tval_acc=0.945000\n",
      "Epoch 69\tloss=0.089828\tval_loss=0.198140\tacc=0.985500\tval_acc=0.943000\n",
      "Epoch 70\tloss=0.086807\tval_loss=0.191589\tacc=0.987333\tval_acc=0.953000\n",
      "Epoch 71\tloss=0.088971\tval_loss=0.200859\tacc=0.989667\tval_acc=0.943000\n",
      "Epoch 72\tloss=0.085852\tval_loss=0.191411\tacc=0.986667\tval_acc=0.948000\n",
      "Epoch 73\tloss=0.093058\tval_loss=0.196661\tacc=0.982000\tval_acc=0.944000\n",
      "Epoch 74\tloss=0.094475\tval_loss=0.192969\tacc=0.986000\tval_acc=0.948000\n",
      "Epoch 75\tloss=0.083398\tval_loss=0.187608\tacc=0.987667\tval_acc=0.953000\n",
      "Epoch 76\tloss=0.087278\tval_loss=0.186322\tacc=0.984667\tval_acc=0.950000\n",
      "Epoch 77\tloss=0.084659\tval_loss=0.189485\tacc=0.987000\tval_acc=0.950000\n",
      "Epoch 78\tloss=0.085957\tval_loss=0.196335\tacc=0.988667\tval_acc=0.947000\n",
      "Epoch 79\tloss=0.093801\tval_loss=0.201979\tacc=0.981833\tval_acc=0.946000\n",
      "Epoch 80\tloss=0.104891\tval_loss=0.209070\tacc=0.979500\tval_acc=0.935000\n",
      "Epoch 81\tloss=0.084834\tval_loss=0.186918\tacc=0.986333\tval_acc=0.952000\n",
      "Epoch 82\tloss=0.084317\tval_loss=0.195206\tacc=0.987833\tval_acc=0.947000\n",
      "Epoch 83\tloss=0.084040\tval_loss=0.196107\tacc=0.987000\tval_acc=0.943000\n",
      "Epoch 84\tloss=0.083727\tval_loss=0.193397\tacc=0.986833\tval_acc=0.946000\n",
      "Epoch 85\tloss=0.085489\tval_loss=0.199104\tacc=0.988667\tval_acc=0.947000\n",
      "Epoch 86\tloss=0.101000\tval_loss=0.210788\tacc=0.981667\tval_acc=0.937000\n",
      "Epoch 87\tloss=0.091205\tval_loss=0.203289\tacc=0.985500\tval_acc=0.944000\n",
      "Epoch 88\tloss=0.083505\tval_loss=0.185521\tacc=0.987500\tval_acc=0.951000\n",
      "Epoch 89\tloss=0.086133\tval_loss=0.194905\tacc=0.987500\tval_acc=0.952000\n",
      "Epoch 90\tloss=0.085544\tval_loss=0.184662\tacc=0.988167\tval_acc=0.952000\n",
      "Epoch 91\tloss=0.081677\tval_loss=0.192165\tacc=0.988833\tval_acc=0.945000\n",
      "Epoch 92\tloss=0.090740\tval_loss=0.193038\tacc=0.985167\tval_acc=0.942000\n",
      "Epoch 93\tloss=0.095677\tval_loss=0.200222\tacc=0.984000\tval_acc=0.942000\n",
      "Epoch 94\tloss=0.093694\tval_loss=0.196530\tacc=0.987667\tval_acc=0.952000\n",
      "Epoch 95\tloss=0.087325\tval_loss=0.197860\tacc=0.984833\tval_acc=0.944000\n",
      "Epoch 96\tloss=0.089695\tval_loss=0.195257\tacc=0.986167\tval_acc=0.949000\n",
      "Epoch 97\tloss=0.091920\tval_loss=0.193251\tacc=0.987000\tval_acc=0.954000\n",
      "Epoch 98\tloss=0.089346\tval_loss=0.201661\tacc=0.985500\tval_acc=0.942000\n",
      "Epoch 99\tloss=0.085851\tval_loss=0.196867\tacc=0.988167\tval_acc=0.949000\n",
      "Epoch 100\tloss=0.087612\tval_loss=0.196182\tacc=0.986167\tval_acc=0.950000\n"
     ]
    }
   ],
   "source": [
    "# train the model\n",
    "l2_model.train(X_train_normalized, y_train_one_hot,\n",
    "               X_test_normalized,y_test_one_hot, epochs=100);"
   ]
  },
  {
   "cell_type": "code",
   "execution_count": 63,
   "metadata": {},
   "outputs": [
    {
     "name": "stdout",
     "output_type": "stream",
     "text": [
      "loss=2.405249\tval_loss=2.391666\tacc=0.111833\tval_acc=0.111000\n",
      "{'loss': 2.4052486241804516, 'val_loss': 2.391665833164501, 'acc': 0.111833334, 'val_acc': 0.111}\n"
     ]
    }
   ],
   "source": [
    "from layers import Dropout\n",
    "\n",
    "# train a model with dropout\n",
    "dropout_model = Sequential()\n",
    "dropout_model.add(Linear(128, input_shape=(784,)))\n",
    "dropout_model.add(ReLU())\n",
    "dropout_model.add(Dropout(0.5))\n",
    "dropout_model.add(Linear(64))\n",
    "dropout_model.add(ReLU())\n",
    "dropout_model.add(Dropout(0.5))\n",
    "dropout_model.add(Linear(10))\n",
    "dropout_model.add(Softmax())\n",
    "\n",
    "# prepare the model for training\n",
    "dropout_model.configure(loss=CategoricalCrossentropy(),\n",
    "                        learning_rate=0.1,\n",
    "                        metrics={'acc': categorical_accuracy})\n",
    "\n",
    "print(dropout_model.evaluate(X_train_normalized, y_train_one_hot, X_test_normalized, y_test_one_hot))"
   ]
  },
  {
   "cell_type": "code",
   "execution_count": 65,
   "metadata": {},
   "outputs": [
    {
     "name": "stdout",
     "output_type": "stream",
     "text": [
      "Epoch 01\tloss=0.004443\tval_loss=0.295600\tacc=0.999333\tval_acc=0.947000\n",
      "Epoch 02\tloss=0.003603\tval_loss=0.276782\tacc=0.999833\tval_acc=0.951000\n",
      "Epoch 03\tloss=0.004231\tval_loss=0.301531\tacc=0.999167\tval_acc=0.947000\n",
      "Epoch 04\tloss=0.004614\tval_loss=0.273729\tacc=0.998667\tval_acc=0.952000\n",
      "Epoch 05\tloss=0.004157\tval_loss=0.276825\tacc=0.999167\tval_acc=0.950000\n",
      "Epoch 06\tloss=0.003457\tval_loss=0.294946\tacc=0.999500\tval_acc=0.949000\n",
      "Epoch 07\tloss=0.007996\tval_loss=0.316123\tacc=0.997167\tval_acc=0.946000\n",
      "Epoch 08\tloss=0.004201\tval_loss=0.297155\tacc=0.999000\tval_acc=0.947000\n",
      "Epoch 09\tloss=0.003242\tval_loss=0.302276\tacc=0.999833\tval_acc=0.951000\n",
      "Epoch 10\tloss=0.003938\tval_loss=0.309057\tacc=0.999333\tval_acc=0.951000\n",
      "Epoch 11\tloss=0.008196\tval_loss=0.324650\tacc=0.997833\tval_acc=0.948000\n",
      "Epoch 12\tloss=0.004041\tval_loss=0.295978\tacc=0.999333\tval_acc=0.950000\n",
      "Epoch 13\tloss=0.003832\tval_loss=0.301135\tacc=0.999000\tval_acc=0.951000\n",
      "Epoch 14\tloss=0.003082\tval_loss=0.312484\tacc=0.999500\tval_acc=0.949000\n",
      "Epoch 15\tloss=0.002767\tval_loss=0.302703\tacc=0.999833\tval_acc=0.946000\n",
      "Epoch 16\tloss=0.003506\tval_loss=0.333514\tacc=0.999167\tval_acc=0.947000\n",
      "Epoch 17\tloss=0.003841\tval_loss=0.302273\tacc=0.999333\tval_acc=0.943000\n",
      "Epoch 18\tloss=0.003459\tval_loss=0.287688\tacc=0.999333\tval_acc=0.948000\n",
      "Epoch 19\tloss=0.003334\tval_loss=0.307278\tacc=0.999500\tval_acc=0.950000\n",
      "Epoch 20\tloss=0.003220\tval_loss=0.319178\tacc=0.999500\tval_acc=0.947000\n",
      "Epoch 21\tloss=0.003101\tval_loss=0.316077\tacc=0.999500\tval_acc=0.950000\n",
      "Epoch 22\tloss=0.002943\tval_loss=0.311862\tacc=0.999500\tval_acc=0.948000\n",
      "Epoch 23\tloss=0.002960\tval_loss=0.306250\tacc=0.999333\tval_acc=0.956000\n",
      "Epoch 24\tloss=0.002906\tval_loss=0.303648\tacc=0.999333\tval_acc=0.954000\n",
      "Epoch 25\tloss=0.002487\tval_loss=0.315877\tacc=0.999500\tval_acc=0.950000\n",
      "Epoch 26\tloss=0.002658\tval_loss=0.332549\tacc=0.999833\tval_acc=0.952000\n",
      "Epoch 27\tloss=0.004156\tval_loss=0.333101\tacc=0.999000\tval_acc=0.946000\n",
      "Epoch 28\tloss=0.002615\tval_loss=0.316221\tacc=0.999833\tval_acc=0.954000\n",
      "Epoch 29\tloss=0.003525\tval_loss=0.319679\tacc=0.999500\tval_acc=0.948000\n",
      "Epoch 30\tloss=0.002489\tval_loss=0.331710\tacc=0.999500\tval_acc=0.952000\n",
      "Epoch 31\tloss=0.002284\tval_loss=0.306606\tacc=0.999833\tval_acc=0.952000\n",
      "Epoch 32\tloss=0.002406\tval_loss=0.305962\tacc=0.999500\tval_acc=0.953000\n",
      "Epoch 33\tloss=0.002244\tval_loss=0.300151\tacc=0.999667\tval_acc=0.950000\n",
      "Epoch 34\tloss=0.003351\tval_loss=0.329340\tacc=0.999500\tval_acc=0.946000\n",
      "Epoch 35\tloss=0.002094\tval_loss=0.341058\tacc=0.999833\tval_acc=0.947000\n",
      "Epoch 36\tloss=0.003006\tval_loss=0.328010\tacc=0.999500\tval_acc=0.950000\n",
      "Epoch 37\tloss=0.002570\tval_loss=0.299763\tacc=0.999667\tval_acc=0.948000\n",
      "Epoch 38\tloss=0.001752\tval_loss=0.331498\tacc=0.999833\tval_acc=0.949000\n",
      "Epoch 39\tloss=0.002295\tval_loss=0.320774\tacc=0.999833\tval_acc=0.952000\n",
      "Epoch 40\tloss=0.002009\tval_loss=0.317823\tacc=0.999833\tval_acc=0.950000\n",
      "Epoch 41\tloss=0.003211\tval_loss=0.309632\tacc=0.999167\tval_acc=0.948000\n"
     ]
    },
    {
     "ename": "KeyboardInterrupt",
     "evalue": "",
     "output_type": "error",
     "traceback": [
      "\u001b[0;31m---------------------------------------------------------------------------\u001b[0m",
      "\u001b[0;31mKeyboardInterrupt\u001b[0m                         Traceback (most recent call last)",
      "\u001b[0;32m<ipython-input-65-e992d80ecb47>\u001b[0m in \u001b[0;36m<module>\u001b[0;34m()\u001b[0m\n\u001b[1;32m      1\u001b[0m \u001b[0;31m# train the model\u001b[0m\u001b[0;34m\u001b[0m\u001b[0;34m\u001b[0m\u001b[0;34m\u001b[0m\u001b[0m\n\u001b[1;32m      2\u001b[0m dropout_model.train(X_train_normalized, y_train_one_hot,\n\u001b[0;32m----> 3\u001b[0;31m                     X_test_normalized,y_test_one_hot, epochs=100);\n\u001b[0m",
      "\u001b[0;32m/home/moaz/Learn/AI/Machine Learning 2020/Deep Learning From Scratch/models.py\u001b[0m in \u001b[0;36mtrain\u001b[0;34m(self, X, Y, X_val, Y_val, epochs, batch_size, drop_remainder, shuffle, verbose, *args, **kwargs)\u001b[0m\n\u001b[1;32m    119\u001b[0m                 \u001b[0mX_batch\u001b[0m \u001b[0;34m=\u001b[0m \u001b[0mX\u001b[0m\u001b[0;34m[\u001b[0m\u001b[0mbatch_start\u001b[0m\u001b[0;34m:\u001b[0m\u001b[0mbatch_end\u001b[0m\u001b[0;34m]\u001b[0m\u001b[0;34m\u001b[0m\u001b[0;34m\u001b[0m\u001b[0m\n\u001b[1;32m    120\u001b[0m                 \u001b[0mY_batch\u001b[0m \u001b[0;34m=\u001b[0m \u001b[0mY\u001b[0m\u001b[0;34m[\u001b[0m\u001b[0mbatch_start\u001b[0m\u001b[0;34m:\u001b[0m\u001b[0mbatch_end\u001b[0m\u001b[0;34m]\u001b[0m\u001b[0;34m\u001b[0m\u001b[0;34m\u001b[0m\u001b[0m\n\u001b[0;32m--> 121\u001b[0;31m                 \u001b[0mself\u001b[0m\u001b[0;34m.\u001b[0m\u001b[0mtrain_step\u001b[0m\u001b[0;34m(\u001b[0m\u001b[0mX_batch\u001b[0m\u001b[0;34m,\u001b[0m \u001b[0mY_batch\u001b[0m\u001b[0;34m,\u001b[0m \u001b[0mself\u001b[0m\u001b[0;34m.\u001b[0m\u001b[0mlearning_rate\u001b[0m\u001b[0;34m,\u001b[0m \u001b[0;34m*\u001b[0m\u001b[0margs\u001b[0m\u001b[0;34m,\u001b[0m \u001b[0;34m**\u001b[0m\u001b[0mkwargs\u001b[0m\u001b[0;34m)\u001b[0m\u001b[0;34m\u001b[0m\u001b[0;34m\u001b[0m\u001b[0m\n\u001b[0m\u001b[1;32m    122\u001b[0m \u001b[0;34m\u001b[0m\u001b[0m\n\u001b[1;32m    123\u001b[0m             \u001b[0;32mif\u001b[0m \u001b[0mverbose\u001b[0m\u001b[0;34m:\u001b[0m\u001b[0;34m\u001b[0m\u001b[0;34m\u001b[0m\u001b[0m\n",
      "\u001b[0;32m/home/moaz/Learn/AI/Machine Learning 2020/Deep Learning From Scratch/models.py\u001b[0m in \u001b[0;36mtrain_step\u001b[0;34m(self, X, Y, learning_rate)\u001b[0m\n\u001b[1;32m    179\u001b[0m \u001b[0;34m\u001b[0m\u001b[0m\n\u001b[1;32m    180\u001b[0m             \u001b[0;31m# backpropagate through this layer and update its parameters\u001b[0m\u001b[0;34m\u001b[0m\u001b[0;34m\u001b[0m\u001b[0;34m\u001b[0m\u001b[0m\n\u001b[0;32m--> 181\u001b[0;31m             \u001b[0mgrads\u001b[0m \u001b[0;34m=\u001b[0m \u001b[0mlayer\u001b[0m\u001b[0;34m.\u001b[0m\u001b[0mbackward\u001b[0m\u001b[0;34m(\u001b[0m\u001b[0mdJ_dZ\u001b[0m\u001b[0;34m,\u001b[0m \u001b[0mtraining\u001b[0m\u001b[0;34m=\u001b[0m\u001b[0;32mTrue\u001b[0m\u001b[0;34m)\u001b[0m\u001b[0;34m\u001b[0m\u001b[0;34m\u001b[0m\u001b[0m\n\u001b[0m\u001b[1;32m    182\u001b[0m             \u001b[0;32mif\u001b[0m \u001b[0misinstance\u001b[0m\u001b[0;34m(\u001b[0m\u001b[0mgrads\u001b[0m\u001b[0;34m,\u001b[0m \u001b[0mtuple\u001b[0m\u001b[0;34m)\u001b[0m\u001b[0;34m:\u001b[0m\u001b[0;34m\u001b[0m\u001b[0;34m\u001b[0m\u001b[0m\n\u001b[1;32m    183\u001b[0m                 \u001b[0mdJ_dZ\u001b[0m \u001b[0;34m=\u001b[0m \u001b[0mgrads\u001b[0m\u001b[0;34m[\u001b[0m\u001b[0;36m0\u001b[0m\u001b[0;34m]\u001b[0m\u001b[0;34m\u001b[0m\u001b[0;34m\u001b[0m\u001b[0m\n",
      "\u001b[0;32m/home/moaz/Learn/AI/Machine Learning 2020/Deep Learning From Scratch/layers.py\u001b[0m in \u001b[0;36mbackward\u001b[0;34m(self, dJ_dZ, training, *args, **kwargs)\u001b[0m\n\u001b[1;32m     58\u001b[0m             \"\"\"\n\u001b[1;32m     59\u001b[0m \u001b[0;34m\u001b[0m\u001b[0m\n\u001b[0;32m---> 60\u001b[0;31m             \u001b[0;32mreturn\u001b[0m \u001b[0mf\u001b[0m\u001b[0;34m(\u001b[0m\u001b[0mself\u001b[0m\u001b[0;34m,\u001b[0m \u001b[0mdJ_dZ\u001b[0m\u001b[0;34m,\u001b[0m \u001b[0mtraining\u001b[0m\u001b[0;34m=\u001b[0m\u001b[0mtraining\u001b[0m\u001b[0;34m,\u001b[0m \u001b[0;34m*\u001b[0m\u001b[0margs\u001b[0m\u001b[0;34m,\u001b[0m \u001b[0;34m**\u001b[0m\u001b[0mkwargs\u001b[0m\u001b[0;34m)\u001b[0m\u001b[0;34m\u001b[0m\u001b[0;34m\u001b[0m\u001b[0m\n\u001b[0m\u001b[1;32m     61\u001b[0m         \u001b[0;32mreturn\u001b[0m \u001b[0mbackward\u001b[0m\u001b[0;34m\u001b[0m\u001b[0;34m\u001b[0m\u001b[0m\n\u001b[1;32m     62\u001b[0m \u001b[0;34m\u001b[0m\u001b[0m\n",
      "\u001b[0;32m/home/moaz/Learn/AI/Machine Learning 2020/Deep Learning From Scratch/layers.py\u001b[0m in \u001b[0;36mbackward\u001b[0;34m(self, dJ_dZ, training)\u001b[0m\n\u001b[1;32m    104\u001b[0m         \u001b[0;31m# compute the gradients with respect to the weights\u001b[0m\u001b[0;34m\u001b[0m\u001b[0;34m\u001b[0m\u001b[0;34m\u001b[0m\u001b[0m\n\u001b[1;32m    105\u001b[0m         \u001b[0mX\u001b[0m \u001b[0;34m=\u001b[0m \u001b[0mself\u001b[0m\u001b[0;34m.\u001b[0m\u001b[0mcache\u001b[0m\u001b[0;34m[\u001b[0m\u001b[0;34m'X'\u001b[0m\u001b[0;34m]\u001b[0m\u001b[0;34m\u001b[0m\u001b[0;34m\u001b[0m\u001b[0m\n\u001b[0;32m--> 106\u001b[0;31m         \u001b[0mdJ_dW\u001b[0m \u001b[0;34m=\u001b[0m \u001b[0mX\u001b[0m\u001b[0;34m.\u001b[0m\u001b[0mT\u001b[0m \u001b[0;34m@\u001b[0m \u001b[0mdJ_dZ\u001b[0m\u001b[0;34m\u001b[0m\u001b[0;34m\u001b[0m\u001b[0m\n\u001b[0m\u001b[1;32m    107\u001b[0m         \u001b[0;31m# add regularization gradients\u001b[0m\u001b[0;34m\u001b[0m\u001b[0;34m\u001b[0m\u001b[0;34m\u001b[0m\u001b[0m\n\u001b[1;32m    108\u001b[0m         \u001b[0;32mif\u001b[0m \u001b[0mself\u001b[0m\u001b[0;34m.\u001b[0m\u001b[0mkernel_regularizer\u001b[0m \u001b[0;32mis\u001b[0m \u001b[0;32mnot\u001b[0m \u001b[0;32mNone\u001b[0m\u001b[0;34m:\u001b[0m\u001b[0;34m\u001b[0m\u001b[0;34m\u001b[0m\u001b[0m\n",
      "\u001b[0;31mKeyboardInterrupt\u001b[0m: "
     ]
    }
   ],
   "source": [
    "# train the model\n",
    "dropout_model.train(X_train_normalized, y_train_one_hot,\n",
    "                    X_test_normalized,y_test_one_hot, epochs=100);"
   ]
  },
  {
   "cell_type": "code",
   "execution_count": 23,
   "metadata": {},
   "outputs": [
    {
     "data": {
      "image/png": "[encoded data removed]",
      "text/plain": [
       "<Figure size 288x288 with 4 Axes>"
      ]
     },
     "metadata": {
      "needs_background": "light"
     },
     "output_type": "display_data"
    }
   ],
   "source": [
    "y_pred = np.argmax(model(X_train), axis=-1)\n",
    "\n",
    "# plot a few predictions\n",
    "fig = plt.figure(figsize=(4, 4))\n",
    "\n",
    "for i in range(4):\n",
    "    fig.add_subplot(2, 2, i+1)\n",
    "    plot_example(X_train[i+100], y_pred[i+100])\n",
    "\n",
    "fig.tight_layout()\n",
    "plt.show()"
   ]
  },
  {
   "cell_type": "code",
   "execution_count": 24,
   "metadata": {},
   "outputs": [
    {
     "data": {
      "image/png": "[encoded data removed]",
      "text/plain": [
       "<Figure size 432x288 with 1 Axes>"
      ]
     },
     "metadata": {
      "needs_background": "light"
     },
     "output_type": "display_data"
    },
    {
     "data": {
      "image/png": "[encoded data removed]",
      "text/plain": [
       "<Figure size 432x288 with 1 Axes>"
      ]
     },
     "metadata": {
      "needs_background": "light"
     },
     "output_type": "display_data"
    }
   ],
   "source": [
    "index = 10\n",
    "\n",
    "plot_example(X_train[index], y_train[index])\n",
    "plt.show()\n",
    "\n",
    "# trying to visualize the activation of the first layer\n",
    "A1 = model.layers[0].forward(X_train[index])\n",
    "A1 = A1.reshape(4, 4)\n",
    "plt.imshow(A1)\n",
    "plt.show()"
   ]
  }
 ],
 "metadata": {
  "kernelspec": {
   "display_name": "Python 3.7.3 64-bit",
   "language": "python",
   "name": "python37364bit5171d068c3054b8f80dd7b7dde0249a4"
  },
  "language_info": {
   "codemirror_mode": {
    "name": "ipython",
    "version": 3
   },
   "file_extension": ".py",
   "mimetype": "text/x-python",
   "name": "python",
   "nbconvert_exporter": "python",
   "pygments_lexer": "ipython3",
   "version": "3.7.3"
  }
 },
 "nbformat": 4,
 "nbformat_minor": 2
}
