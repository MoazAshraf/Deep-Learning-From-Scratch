{
 "cells": [
  {
   "cell_type": "code",
   "execution_count": 3,
   "metadata": {
    "scrolled": false
   },
   "outputs": [],
   "source": [
    "%load_ext autoreload\n",
    "%autoreload 2"
   ]
  },
  {
   "cell_type": "code",
   "execution_count": 76,
   "metadata": {},
   "outputs": [
    {
     "name": "stdout",
     "output_type": "stream",
     "text": [
      "0.18843882562812594\n",
      "0.18843882562812594\n",
      "0.18843882562812594\n",
      "\n",
      "[[-0.25510204 -0.        ]\n",
      " [-0.         -0.35714286]]\n",
      "[[-0.25510204]\n",
      " [ 0.35714286]]\n",
      "\n",
      "[[0.72489796 0.02      ]\n",
      " [0.3        0.34285714]]\n",
      "[[0.72489796]\n",
      " [0.65714286]]\n"
     ]
    }
   ],
   "source": [
    "import numpy as np\n",
    "\n",
    "from models import Sequential\n",
    "from layers import Dense\n",
    "from losses import CategoricalCrossentropy, BinaryCrossentropy\n",
    "\n",
    "from sklearn.metrics import log_loss\n",
    "\n",
    "loss1 = CategoricalCrossentropy()\n",
    "loss2 = BinaryCrossentropy()\n",
    "\n",
    "y_true = np.array([[1, 0],\n",
    "                    [0, 1]])\n",
    "\n",
    "y_pred = np.array([[.98, .02],\n",
    "                    [.3, .7]])\n",
    "\n",
    "print(loss1(y_true, y_pred))\n",
    "print(loss2(y_true[:,0,None], y_pred[:,0,None]))\n",
    "print(log_loss(y_true, y_pred))\n",
    "print()\n",
    "print(loss1.derivative(y_true, y_pred)/2)\n",
    "print(loss2.derivative(y_true[:,0,None], y_pred[:,0,None])/2)\n",
    "print()\n",
    "print(y_pred + loss1.derivative(y_true, y_pred)/2)\n",
    "print(y_pred[:,0,None] + loss2.derivative(y_true[:,0,None], y_pred[:,0,None])/2)"
   ]
  }
 ],
 "metadata": {
  "kernelspec": {
   "display_name": "Python 3.7.3 64-bit",
   "language": "python",
   "name": "python37364bit5171d068c3054b8f80dd7b7dde0249a4"
  },
  "language_info": {
   "codemirror_mode": {
    "name": "ipython",
    "version": 3
   },
   "file_extension": ".py",
   "mimetype": "text/x-python",
   "name": "python",
   "nbconvert_exporter": "python",
   "pygments_lexer": "ipython3",
   "version": "3.7.3"
  }
 },
 "nbformat": 4,
 "nbformat_minor": 2
}
