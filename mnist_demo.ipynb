{
 "cells": [
  {
   "cell_type": "code",
   "execution_count": 14,
   "metadata": {
    "scrolled": false
   },
   "outputs": [
    {
     "name": "stdout",
     "output_type": "stream",
     "text": [
      "The autoreload extension is already loaded. To reload it, use:\n",
      "  %reload_ext autoreload\n"
     ]
    }
   ],
   "source": [
    "%load_ext autoreload\n",
    "%autoreload 2"
   ]
  },
  {
   "cell_type": "code",
   "execution_count": 2,
   "metadata": {},
   "outputs": [],
   "source": [
    "from sklearn.datasets import fetch_openml\n",
    "\n",
    "# load the MNIST dataset\n",
    "mnist_data = fetch_openml('mnist_784')"
   ]
  },
  {
   "cell_type": "code",
   "execution_count": 3,
   "metadata": {},
   "outputs": [
    {
     "name": "stdout",
     "output_type": "stream",
     "text": [
      "(70000, 784)\n",
      "(70000,)\n"
     ]
    }
   ],
   "source": [
    "print(mnist_data['data'].shape)\n",
    "print(mnist_data['target'].shape)\n",
    "\n",
    "X = mnist_data['data']\n",
    "y = mnist_data['target']"
   ]
  },
  {
   "cell_type": "code",
   "execution_count": 5,
   "metadata": {},
   "outputs": [
    {
     "name": "stdout",
     "output_type": "stream",
     "text": [
      "(60000, 784)\n",
      "(60000,)\n",
      "(10000, 784)\n",
      "(10000,)\n"
     ]
    }
   ],
   "source": [
    "from sklearn.model_selection import train_test_split\n",
    "\n",
    "# split the data into training and test sets\n",
    "X_train, X_test, y_train, y_test = train_test_split(X, y, test_size=1/7, random_state=42)\n",
    "print(X_train.shape)\n",
    "print(y_train.shape)\n",
    "print(X_test.shape)\n",
    "print(y_test.shape)"
   ]
  },
  {
   "cell_type": "code",
   "execution_count": 6,
   "metadata": {},
   "outputs": [
    {
     "data": {
      "image/png": "[encoded data removed]",
      "text/plain": [
       "<Figure size 432x288 with 1 Axes>"
      ]
     },
     "metadata": {
      "needs_background": "light"
     },
     "output_type": "display_data"
    }
   ],
   "source": [
    "%matplotlib inline\n",
    "import matplotlib.pyplot as plt\n",
    "\n",
    "index = 2\n",
    "\n",
    "# plot an example\n",
    "def plot_example(X, y):\n",
    "    plt.imshow(X.reshape(28, 28), cmap='binary')\n",
    "    plt.axis(False)\n",
    "    plt.title(f\"{y}\")\n",
    "\n",
    "plot_example(X_train[index], y_train[index])\n",
    "plt.show()"
   ]
  },
  {
   "cell_type": "code",
   "execution_count": 7,
   "metadata": {},
   "outputs": [
    {
     "data": {
      "image/png": "[encoded data removed]",
      "text/plain": [
       "<Figure size 288x288 with 4 Axes>"
      ]
     },
     "metadata": {
      "needs_background": "light"
     },
     "output_type": "display_data"
    }
   ],
   "source": [
    "# plot a few examples\n",
    "fig = plt.figure(figsize=(4, 4))\n",
    "\n",
    "for i in range(4):\n",
    "    fig.add_subplot(2, 2, i+1)\n",
    "    plot_example(X_train[i], y_train[i])\n",
    "\n",
    "fig.tight_layout()\n",
    "plt.show()"
   ]
  },
  {
   "cell_type": "code",
   "execution_count": 8,
   "metadata": {},
   "outputs": [],
   "source": [
    "import numpy as np\n",
    "\n",
    "def one_hot_encode(x, num_classes=10):\n",
    "    x_one_hot = x.astype(int).reshape(-1)\n",
    "    x_one_hot = np.eye(num_classes)[x_one_hot]\n",
    "    return x_one_hot\n",
    "\n",
    "# one-hot encode labels\n",
    "y_train_one_hot = one_hot_encode(y_train)\n",
    "y_test_one_hot = one_hot_encode(y_test)"
   ]
  },
  {
   "cell_type": "code",
   "execution_count": 9,
   "metadata": {},
   "outputs": [],
   "source": [
    "# normalize the inputs\n",
    "X_train_normalized = X_train / 255.0\n",
    "X_test_normalized = X_test / 255.0"
   ]
  },
  {
   "cell_type": "code",
   "execution_count": 16,
   "metadata": {},
   "outputs": [],
   "source": [
    "from models import Sequential\n",
    "from layers import Linear, ReLU, Softmax\n",
    "\n",
    "# create the model\n",
    "model = Sequential()\n",
    "model.add(Linear(16, input_shape=(784,)))\n",
    "model.add(ReLU())\n",
    "model.add(Linear(16))\n",
    "model.add(ReLU())\n",
    "model.add(Linear(10))\n",
    "model.add(Softmax())"
   ]
  },
  {
   "cell_type": "code",
   "execution_count": 24,
   "metadata": {},
   "outputs": [
    {
     "name": "stdout",
     "output_type": "stream",
     "text": [
      "loss=0.377195 \tcategorical_accuracy=0.896783\n",
      "(0.3771945364904231, [0.89678335])\n"
     ]
    }
   ],
   "source": [
    "from losses import CategoricalCrossentropy\n",
    "from metrics import categorical_accuracy\n",
    "\n",
    "# prepare the model for training\n",
    "model.configure(loss=CategoricalCrossentropy(),\n",
    "                learning_rate=0.1,\n",
    "                metrics=[categorical_accuracy])\n",
    "\n",
    "print(model.evaluate(X_train_normalized, y_train_one_hot))"
   ]
  },
  {
   "cell_type": "code",
   "execution_count": 25,
   "metadata": {},
   "outputs": [
    {
     "name": "stdout",
     "output_type": "stream",
     "text": [
      "Epoch 01\tloss=0.376525 \tcategorical_accuracy=0.891250\n",
      "Epoch 02\tloss=0.375260 \tcategorical_accuracy=0.897100\n",
      "Epoch 03\tloss=0.374580 \tcategorical_accuracy=0.892150\n",
      "Epoch 04\tloss=0.373360 \tcategorical_accuracy=0.897683\n",
      "Epoch 05\tloss=0.372639 \tcategorical_accuracy=0.892733\n",
      "Epoch 06\tloss=0.371481 \tcategorical_accuracy=0.898217\n",
      "Epoch 07\tloss=0.370751 \tcategorical_accuracy=0.893350\n",
      "Epoch 08\tloss=0.369619 \tcategorical_accuracy=0.898733\n",
      "Epoch 09\tloss=0.368898 \tcategorical_accuracy=0.893900\n",
      "Epoch 10\tloss=0.367808 \tcategorical_accuracy=0.899200\n",
      "Epoch 11\tloss=0.367082 \tcategorical_accuracy=0.894500\n",
      "Epoch 12\tloss=0.366010 \tcategorical_accuracy=0.899533\n",
      "Epoch 13\tloss=0.365266 \tcategorical_accuracy=0.895050\n",
      "Epoch 14\tloss=0.364204 \tcategorical_accuracy=0.899833\n",
      "Epoch 15\tloss=0.363488 \tcategorical_accuracy=0.895767\n",
      "Epoch 16\tloss=0.362468 \tcategorical_accuracy=0.900250\n",
      "Epoch 17\tloss=0.361755 \tcategorical_accuracy=0.896283\n",
      "Epoch 18\tloss=0.360764 \tcategorical_accuracy=0.900717\n",
      "Epoch 19\tloss=0.360053 \tcategorical_accuracy=0.897000\n",
      "Epoch 20\tloss=0.359105 \tcategorical_accuracy=0.901050\n"
     ]
    }
   ],
   "source": [
    "# train the model\n",
    "model.train(X_train_normalized, y_train_one_hot, epochs=20);"
   ]
  },
  {
   "cell_type": "code",
   "execution_count": 50,
   "metadata": {},
   "outputs": [
    {
     "data": {
      "image/png": "[encoded data removed]",
      "text/plain": [
       "<Figure size 288x288 with 4 Axes>"
      ]
     },
     "metadata": {
      "needs_background": "light"
     },
     "output_type": "display_data"
    }
   ],
   "source": [
    "y_pred = np.argmax(model(X_train), axis=-1)\n",
    "\n",
    "# plot a few predictions\n",
    "fig = plt.figure(figsize=(4, 4))\n",
    "\n",
    "for i in range(4):\n",
    "    fig.add_subplot(2, 2, i+1)\n",
    "    plot_example(X_train[i+100], y_pred[i+100])\n",
    "\n",
    "fig.tight_layout()\n",
    "plt.show()"
   ]
  },
  {
   "cell_type": "code",
   "execution_count": 51,
   "metadata": {},
   "outputs": [
    {
     "data": {
      "image/png": "[encoded data removed]",
      "text/plain": [
       "<Figure size 432x288 with 1 Axes>"
      ]
     },
     "metadata": {
      "needs_background": "light"
     },
     "output_type": "display_data"
    },
    {
     "data": {
      "image/png": "[encoded data removed]",
      "text/plain": [
       "<Figure size 432x288 with 1 Axes>"
      ]
     },
     "metadata": {
      "needs_background": "light"
     },
     "output_type": "display_data"
    }
   ],
   "source": [
    "index = 10\n",
    "\n",
    "plot_example(X_train[index], y_train[index])\n",
    "plt.show()\n",
    "\n",
    "# trying to visualize the activation of the first layer\n",
    "A1 = model.layers[0].forward(X_train[index])\n",
    "A1 = A1.reshape(4, 4)\n",
    "plt.imshow(A1)\n",
    "plt.show()"
   ]
  }
 ],
 "metadata": {
  "kernelspec": {
   "display_name": "Python 3.7.3 64-bit",
   "language": "python",
   "name": "python37364bit5171d068c3054b8f80dd7b7dde0249a4"
  },
  "language_info": {
   "codemirror_mode": {
    "name": "ipython",
    "version": 3
   },
   "file_extension": ".py",
   "mimetype": "text/x-python",
   "name": "python",
   "nbconvert_exporter": "python",
   "pygments_lexer": "ipython3",
   "version": "3.7.3"
  }
 },
 "nbformat": 4,
 "nbformat_minor": 2
}
