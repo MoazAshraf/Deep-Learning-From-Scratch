{
 "cells": [
  {
   "cell_type": "code",
   "execution_count": 3,
   "metadata": {
    "scrolled": false
   },
   "outputs": [],
   "source": [
    "%load_ext autoreload\n",
    "%autoreload 2"
   ]
  },
  {
   "cell_type": "code",
   "execution_count": 84,
   "metadata": {},
   "outputs": [
    {
     "name": "stdout",
     "output_type": "stream",
     "text": [
      "[[0.98201379]\n",
      " [0.00247262]]\n",
      "[[9.99664650e-01 3.35350130e-04]\n",
      " [6.14417460e-06 9.99993856e-01]]\n",
      "\n",
      "[[0.01766271]\n",
      " [0.00246651]]\n",
      "[[3.35237671e-04 3.35237671e-04]\n",
      " [6.14413685e-06 6.14413685e-06]]\n"
     ]
    }
   ],
   "source": [
    "import numpy as np\n",
    "\n",
    "from models import Sequential\n",
    "from layers import Dense\n",
    "from losses import CategoricalCrossentropy, BinaryCrossentropy\n",
    "from activations import Softmax, Sigmoid\n",
    "\n",
    "from sklearn.metrics import log_loss\n",
    "\n",
    "loss1 = CategoricalCrossentropy()\n",
    "loss2 = BinaryCrossentropy()\n",
    "\n",
    "y_true = np.array([[1, 0],\n",
    "                    [0, 1]])\n",
    "\n",
    "z = np.array([[4, -4],\n",
    "              [-6, 6]])\n",
    "\n",
    "print(Sigmoid()(z[:,0,None]))\n",
    "print(Softmax()(z))\n",
    "print()\n",
    "print(Sigmoid().derivative(z[:,0,None]))\n",
    "print(Softmax().derivative(z))\n",
    "\n",
    "# print(loss1(y_true, y_pred))\n",
    "# print(loss2(y_true[:,0,None], y_pred[:,0,None]))\n",
    "# print(log_loss(y_true, y_pred))\n",
    "# print()\n",
    "# print(loss1.derivative(y_true, y_pred)/2)\n",
    "# print(loss2.derivative(y_true[:,0,None], y_pred[:,0,None])/2)\n",
    "# print()\n",
    "# print(y_pred + loss1.derivative(y_true, y_pred)/2)\n",
    "# print(y_pred[:,0,None] + loss2.derivative(y_true[:,0,None], y_pred[:,0,None])/2)"
   ]
  }
 ],
 "metadata": {
  "kernelspec": {
   "display_name": "Python 3.7.3 64-bit",
   "language": "python",
   "name": "python37364bit5171d068c3054b8f80dd7b7dde0249a4"
  },
  "language_info": {
   "codemirror_mode": {
    "name": "ipython",
    "version": 3
   },
   "file_extension": ".py",
   "mimetype": "text/x-python",
   "name": "python",
   "nbconvert_exporter": "python",
   "pygments_lexer": "ipython3",
   "version": "3.7.3"
  }
 },
 "nbformat": 4,
 "nbformat_minor": 2
}
