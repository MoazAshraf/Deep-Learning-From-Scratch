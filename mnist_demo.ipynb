{
 "cells": [
  {
   "cell_type": "code",
   "execution_count": 2,
   "metadata": {
    "scrolled": false
   },
   "outputs": [],
   "source": [
    "%load_ext autoreload\n",
    "%autoreload 2"
   ]
  },
  {
   "cell_type": "code",
   "execution_count": 3,
   "metadata": {},
   "outputs": [],
   "source": [
    "from sklearn.datasets import fetch_openml\n",
    "\n",
    "# load the MNIST dataset\n",
    "mnist_data = fetch_openml('mnist_784')"
   ]
  },
  {
   "cell_type": "code",
   "execution_count": 4,
   "metadata": {},
   "outputs": [
    {
     "name": "stdout",
     "output_type": "stream",
     "text": [
      "(70000, 784)\n",
      "(70000,)\n"
     ]
    }
   ],
   "source": [
    "print(mnist_data['data'].shape)\n",
    "print(mnist_data['target'].shape)\n",
    "\n",
    "X = mnist_data['data']\n",
    "y = mnist_data['target']"
   ]
  },
  {
   "cell_type": "code",
   "execution_count": 5,
   "metadata": {},
   "outputs": [
    {
     "name": "stdout",
     "output_type": "stream",
     "text": [
      "(60000, 784)\n",
      "(60000,)\n",
      "(10000, 784)\n",
      "(10000,)\n"
     ]
    }
   ],
   "source": [
    "from sklearn.model_selection import train_test_split\n",
    "\n",
    "# split the data into training and test sets\n",
    "X_train, X_test, y_train, y_test = train_test_split(X, y, test_size=1/7)\n",
    "print(X_train.shape)\n",
    "print(y_train.shape)\n",
    "print(X_test.shape)\n",
    "print(y_test.shape)"
   ]
  },
  {
   "cell_type": "code",
   "execution_count": 6,
   "metadata": {},
   "outputs": [
    {
     "data": {
      "image/png": "[encoded data removed]",
      "text/plain": [
       "<Figure size 432x288 with 1 Axes>"
      ]
     },
     "metadata": {
      "needs_background": "light"
     },
     "output_type": "display_data"
    }
   ],
   "source": [
    "%matplotlib inline\n",
    "import matplotlib.pyplot as plt\n",
    "\n",
    "index = 2\n",
    "\n",
    "# plot an example\n",
    "def plot_example(X, y):\n",
    "    plt.imshow(X.reshape(28, 28), cmap='binary')\n",
    "    plt.axis(False)\n",
    "    plt.title(f\"{y}\")\n",
    "\n",
    "plot_example(X_train[index], y_train[index])\n",
    "plt.show()"
   ]
  },
  {
   "cell_type": "code",
   "execution_count": 7,
   "metadata": {},
   "outputs": [
    {
     "data": {
      "image/png": "[encoded data removed]",
      "text/plain": [
       "<Figure size 288x288 with 4 Axes>"
      ]
     },
     "metadata": {
      "needs_background": "light"
     },
     "output_type": "display_data"
    }
   ],
   "source": [
    "# plot a few examples\n",
    "fig = plt.figure(figsize=(4, 4))\n",
    "\n",
    "for i in range(4):\n",
    "    fig.add_subplot(2, 2, i+1)\n",
    "    plot_example(X_train[i], y_train[i])\n",
    "\n",
    "fig.tight_layout()\n",
    "plt.show()"
   ]
  },
  {
   "cell_type": "code",
   "execution_count": 8,
   "metadata": {},
   "outputs": [],
   "source": [
    "import numpy as np\n",
    "\n",
    "def one_hot_encode(x, num_classes=10):\n",
    "    x_one_hot = x.astype(int).reshape(-1)\n",
    "    x_one_hot = np.eye(num_classes)[x_one_hot]\n",
    "    return x_one_hot\n",
    "\n",
    "# one-hot encode labels\n",
    "y_train_one_hot = one_hot_encode(y_train)\n",
    "y_test_one_hot = one_hot_encode(y_test)"
   ]
  },
  {
   "cell_type": "code",
   "execution_count": 9,
   "metadata": {},
   "outputs": [],
   "source": [
    "# normalize the inputs\n",
    "X_train_normalized = X_train / 255.0\n",
    "X_test_normalized = X_test / 255.0"
   ]
  },
  {
   "cell_type": "code",
   "execution_count": 126,
   "metadata": {},
   "outputs": [],
   "source": [
    "from models import Sequential\n",
    "from layers import Dense\n",
    "\n",
    "# create the model\n",
    "model = Sequential([\n",
    "    Dense(16, input_shape=(784,), activation=\"relu\"),\n",
    "#     Dense(16, activation=\"relu\"),\n",
    "    Dense(10, activation=\"softmax\")\n",
    "])"
   ]
  },
  {
   "cell_type": "code",
   "execution_count": 127,
   "metadata": {},
   "outputs": [
    {
     "name": "stdout",
     "output_type": "stream",
     "text": [
      "loss=2.3024\taccuracy=0.0979\n",
      "(2.302369439280033, [0.09793333333333333])\n"
     ]
    }
   ],
   "source": [
    "# prepare the model for training\n",
    "model.compile(loss=\"categorical_crossentropy\",\n",
    "              learning_rate=0.1,\n",
    "              metrics=['categorical_accuracy'])\n",
    "\n",
    "print(model.evaluate(X_train_normalized, y_train_one_hot))"
   ]
  },
  {
   "cell_type": "code",
   "execution_count": 128,
   "metadata": {},
   "outputs": [
    {
     "name": "stdout",
     "output_type": "stream",
     "text": [
      "Epoch 1:\tloss=2.3022\taccuracy=0.0979\n",
      "Epoch 2:\tloss=2.3021\taccuracy=0.0979\n",
      "Epoch 3:\tloss=2.3019\taccuracy=0.0979\n",
      "Epoch 4:\tloss=2.3018\taccuracy=0.0979\n",
      "Epoch 5:\tloss=2.3016\taccuracy=0.0979\n",
      "Epoch 6:\tloss=2.3014\taccuracy=0.0979\n",
      "Epoch 7:\tloss=2.3012\taccuracy=0.0979\n",
      "Epoch 8:\tloss=2.3010\taccuracy=0.0979\n",
      "Epoch 9:\tloss=2.3008\taccuracy=0.0979\n",
      "Epoch 10:\tloss=2.3006\taccuracy=0.0979\n",
      "Epoch 11:\tloss=2.3003\taccuracy=0.0979\n",
      "Epoch 12:\tloss=2.3001\taccuracy=0.0979\n",
      "Epoch 13:\tloss=2.2998\taccuracy=0.0979\n",
      "Epoch 14:\tloss=2.2994\taccuracy=0.0979\n",
      "Epoch 15:\tloss=2.2990\taccuracy=0.0979\n",
      "Epoch 16:\tloss=2.2986\taccuracy=0.0979\n",
      "Epoch 17:\tloss=2.2980\taccuracy=0.0979\n",
      "Epoch 18:\tloss=2.2974\taccuracy=0.0979\n",
      "Epoch 19:\tloss=2.2965\taccuracy=0.0979\n",
      "Epoch 20:\tloss=2.2956\taccuracy=0.0979\n",
      "Epoch 21:\tloss=2.2944\taccuracy=0.0979\n",
      "Epoch 22:\tloss=2.2932\taccuracy=0.0979\n",
      "Epoch 23:\tloss=2.2922\taccuracy=0.0979\n",
      "Epoch 24:\tloss=2.2919\taccuracy=0.0979\n",
      "Epoch 25:\tloss=2.2934\taccuracy=0.0979\n",
      "Epoch 26:\tloss=2.2985\taccuracy=0.0979\n",
      "Epoch 27:\tloss=2.3103\taccuracy=0.0979\n",
      "Epoch 28:\tloss=2.3332\taccuracy=0.0979\n",
      "Epoch 29:\tloss=2.3721\taccuracy=0.0979\n",
      "Epoch 30:\tloss=2.4318\taccuracy=0.0979\n",
      "Epoch 31:\tloss=2.5167\taccuracy=0.0979\n",
      "Epoch 32:\tloss=2.6322\taccuracy=0.0979\n",
      "Epoch 33:\tloss=2.7834\taccuracy=0.0979\n",
      "Epoch 34:\tloss=2.9725\taccuracy=0.0979\n",
      "Epoch 35:\tloss=3.2035\taccuracy=0.0979\n",
      "Epoch 36:\tloss=3.4878\taccuracy=0.0979\n",
      "Epoch 37:\tloss=3.8432\taccuracy=0.0979\n",
      "Epoch 38:\tloss=4.2879\taccuracy=0.0979\n",
      "Epoch 39:\tloss=4.8668\taccuracy=0.0979\n",
      "Epoch 40:\tloss=5.9501\taccuracy=0.0979\n"
     ]
    }
   ],
   "source": [
    "np.seterr(all='raise')\n",
    "\n",
    "# train the model\n",
    "history = model.fit(X_train_normalized, y_train_one_hot, epochs=40)"
   ]
  },
  {
   "cell_type": "code",
   "execution_count": 13,
   "metadata": {},
   "outputs": [
    {
     "data": {
      "text/plain": [
       "96.70216723215762"
      ]
     },
     "execution_count": 13,
     "metadata": {},
     "output_type": "execute_result"
    }
   ],
   "source": [
    "history[39]['parameters'][1][\"weights\"].sum()"
   ]
  },
  {
   "cell_type": "code",
   "execution_count": null,
   "metadata": {},
   "outputs": [],
   "source": [
    "model.layers[0].call(X_train)"
   ]
  },
  {
   "cell_type": "code",
   "execution_count": 15,
   "metadata": {},
   "outputs": [],
   "source": [
    "import torch"
   ]
  },
  {
   "cell_type": "code",
   "execution_count": 109,
   "metadata": {},
   "outputs": [
    {
     "name": "stdout",
     "output_type": "stream",
     "text": [
      "tensor([[0.3367, 0.1288],\n",
      "        [0.2345, 0.2303]])\n",
      "My Dense Layer:\n",
      "Weights:\n",
      "[[ 0.00496714]\n",
      " [-0.00138264]]\n",
      "\n",
      "Biases:\n",
      "[[0.]]\n",
      "\n",
      "Activations:\n",
      "[[0.00149429]\n",
      " [0.00084614]]\n",
      "\n",
      "\n",
      "Torch Dense Layer:\n",
      "Weights:\n",
      "[[ 0.00496714 -0.00138264]]\n",
      "\n",
      "Biases:\n",
      "[[0.]]\n",
      "\n",
      "Activations:\n",
      "[[0.00149429]\n",
      " [0.00084614]]\n"
     ]
    }
   ],
   "source": [
    "torch.random.manual_seed(42)\n",
    "np.random.seed(42)\n",
    "\n",
    "x = torch.randn(2, 2)\n",
    "print(x)\n",
    "\n",
    "my_dense = Dense(1, input_shape=x.shape[1:])\n",
    "my_dense.build(my_dense.input_shape)\n",
    "print(\"My Dense Layer:\")\n",
    "print(\"Weights:\")\n",
    "print(my_dense.weights)\n",
    "print()\n",
    "print(\"Biases:\")\n",
    "print(my_dense.biases)\n",
    "print()\n",
    "print(\"Activations:\")\n",
    "print(my_dense(x.numpy()))\n",
    "print()\n",
    "print()\n",
    "\n",
    "torch_dense = torch.nn.Linear(x.shape[1], 1)\n",
    "with torch.no_grad():\n",
    "    torch_dense.weight = torch.nn.Parameter(torch.tensor(my_dense.weights.T, dtype=torch.float))\n",
    "    torch_dense.bias = torch.nn.Parameter(torch.tensor(my_dense.biases, dtype=torch.float))\n",
    "\n",
    "    print(\"Torch Dense Layer:\")\n",
    "    print(\"Weights:\")\n",
    "    print(torch_dense.weight.numpy())\n",
    "    print()\n",
    "    print(\"Biases:\")\n",
    "    print(torch_dense.bias.numpy())\n",
    "    print()\n",
    "    print(\"Activations:\")\n",
    "    print(torch_dense(x).numpy())"
   ]
  },
  {
   "cell_type": "code",
   "execution_count": 130,
   "metadata": {},
   "outputs": [
    {
     "name": "stdout",
     "output_type": "stream",
     "text": [
      "tensor([[1.0000e+02, 2.0000e+02],\n",
      "        [4.0000e+02, 1.0000e+06]])\n",
      "My Dense Layer:\n",
      "Weights:\n",
      "[[ 0.49671415 -0.1382643   0.64768854]\n",
      " [ 1.52302986 -0.23415337 -0.23413696]]\n",
      "\n",
      "Biases:\n",
      "[[0. 0. 0.]]\n",
      "\n",
      "Activations:\n",
      "\n",
      "\n",
      "Torch Dense Layer:\n",
      "Weights:\n",
      "[[ 0.49671414  1.5230298 ]\n",
      " [-0.1382643  -0.23415338]\n",
      " [ 0.64768857 -0.23413695]]\n",
      "\n",
      "Biases:\n",
      "[[0. 0. 0.]]\n",
      "\n",
      "Linear Output:\n",
      "[[ 3.5427737e+02 -6.0657104e+01  1.7941467e+01]\n",
      " [ 1.5232284e+06 -2.3420869e+05 -2.3387788e+05]]\n",
      "\n",
      "Activations:\n",
      "[[1. 0. 0.]\n",
      " [1. 0. 0.]]\n"
     ]
    }
   ],
   "source": [
    "torch.random.manual_seed(42)\n",
    "np.random.seed(42)\n",
    "\n",
    "# x = torch.randn(2, 2)\n",
    "x = torch.tensor([[100, 200],\n",
    "                  [400, 1000000]], dtype=torch.float)\n",
    "print(x)\n",
    "\n",
    "my_dense = Dense(3, input_shape=x.shape[1:], activation=\"softmax\")\n",
    "my_dense.build(my_dense.input_shape)\n",
    "my_dense.weights *= 100\n",
    "print(\"My Dense Layer:\")\n",
    "print(\"Weights:\")\n",
    "print(my_dense.weights)\n",
    "print()\n",
    "print(\"Biases:\")\n",
    "print(my_dense.biases)\n",
    "print()\n",
    "print(\"Activations:\")\n",
    "# print(my_dense(x.numpy()))\n",
    "print()\n",
    "print()\n",
    "\n",
    "torch_dense = torch.nn.Linear(x.shape[1], 1)\n",
    "torch_softmax = torch.nn.Softmax(dim=1)\n",
    "\n",
    "with torch.no_grad():\n",
    "    torch_dense.weight = torch.nn.Parameter(torch.tensor(my_dense.weights.T, dtype=torch.float))\n",
    "    torch_dense.bias = torch.nn.Parameter(torch.tensor(my_dense.biases, dtype=torch.float))\n",
    "\n",
    "    print(\"Torch Dense Layer:\")\n",
    "    print(\"Weights:\")\n",
    "    print(torch_dense.weight.numpy())\n",
    "    print()\n",
    "    print(\"Biases:\")\n",
    "    print(torch_dense.bias.numpy())\n",
    "    print()\n",
    "    print(\"Linear Output:\")\n",
    "    print(torch_dense(x).numpy())\n",
    "    print()\n",
    "    print(\"Activations:\")\n",
    "    print(torch_softmax(torch_dense(x)).numpy())"
   ]
  },
  {
   "cell_type": "code",
   "execution_count": null,
   "metadata": {},
   "outputs": [],
   "source": [
    "help(torch.tensor([[2, 4]], dtype=torch.float).softmax)"
   ]
  },
  {
   "cell_type": "code",
   "execution_count": 153,
   "metadata": {},
   "outputs": [
    {
     "name": "stderr",
     "output_type": "stream",
     "text": [
      "/home/moaz/.local/lib/python3.7/site-packages/scipy/special/_logsumexp.py:112: RuntimeWarning: underflow encountered in exp\n",
      "  tmp = np.exp(a - a_max)\n",
      "/home/moaz/.local/lib/python3.7/site-packages/scipy/special/_logsumexp.py:215: RuntimeWarning: underflow encountered in exp\n",
      "  return np.exp(x - logsumexp(x, axis=axis, keepdims=True))\n"
     ]
    },
    {
     "data": {
      "text/plain": [
       "array([[0.09003057, 0.24472847, 0.66524096],\n",
       "       [1.        , 0.        , 0.        ],\n",
       "       [0.        , 0.        , 1.        ]])"
      ]
     },
     "execution_count": 153,
     "metadata": {},
     "output_type": "execute_result"
    }
   ],
   "source": [
    "from activations import Softmax\n",
    "import scipy.special\n",
    "\n",
    "softmax = Softmax()\n",
    "x = np.array([[1, 2, 3],\n",
    "              [1000, 100, 10],\n",
    "              [12345, 67890, 999999999]])\n",
    "\n",
    "np.seterr(all='warn')\n",
    "# print(softmax(x))\n",
    "scipy.special.softmax(x, axis=-1)"
   ]
  }
 ],
 "metadata": {
  "kernelspec": {
   "display_name": "Python 3.7.3 64-bit",
   "language": "python",
   "name": "python37364bit5171d068c3054b8f80dd7b7dde0249a4"
  },
  "language_info": {
   "codemirror_mode": {
    "name": "ipython",
    "version": 3
   },
   "file_extension": ".py",
   "mimetype": "text/x-python",
   "name": "python",
   "nbconvert_exporter": "python",
   "pygments_lexer": "ipython3",
   "version": "3.7.3"
  }
 },
 "nbformat": 4,
 "nbformat_minor": 2
}
