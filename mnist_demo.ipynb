{
 "cells": [
  {
   "cell_type": "code",
   "execution_count": 1,
   "metadata": {
    "scrolled": false
   },
   "outputs": [],
   "source": [
    "%load_ext autoreload\n",
    "%autoreload 2"
   ]
  },
  {
   "cell_type": "code",
   "execution_count": 2,
   "metadata": {},
   "outputs": [],
   "source": [
    "from sklearn.datasets import fetch_openml\n",
    "\n",
    "# load the MNIST dataset\n",
    "mnist_data = fetch_openml('mnist_784')"
   ]
  },
  {
   "cell_type": "code",
   "execution_count": 3,
   "metadata": {},
   "outputs": [
    {
     "name": "stdout",
     "output_type": "stream",
     "text": [
      "(70000, 784)\n",
      "(70000,)\n"
     ]
    }
   ],
   "source": [
    "print(mnist_data['data'].shape)\n",
    "print(mnist_data['target'].shape)\n",
    "\n",
    "X = mnist_data['data']\n",
    "y = mnist_data['target']"
   ]
  },
  {
   "cell_type": "code",
   "execution_count": 4,
   "metadata": {},
   "outputs": [
    {
     "name": "stdout",
     "output_type": "stream",
     "text": [
      "(60000, 784)\n",
      "(60000,)\n",
      "(10000, 784)\n",
      "(10000,)\n"
     ]
    }
   ],
   "source": [
    "from sklearn.model_selection import train_test_split\n",
    "\n",
    "# split the data into training and test sets\n",
    "X_train, X_test, y_train, y_test = train_test_split(X, y, test_size=1/7, random_state=42)\n",
    "print(X_train.shape)\n",
    "print(y_train.shape)\n",
    "print(X_test.shape)\n",
    "print(y_test.shape)"
   ]
  },
  {
   "cell_type": "code",
   "execution_count": 5,
   "metadata": {},
   "outputs": [
    {
     "data": {
      "image/png": "[encoded data removed]",
      "text/plain": [
       "<Figure size 432x288 with 1 Axes>"
      ]
     },
     "metadata": {
      "needs_background": "light"
     },
     "output_type": "display_data"
    }
   ],
   "source": [
    "%matplotlib inline\n",
    "import matplotlib.pyplot as plt\n",
    "\n",
    "index = 2\n",
    "\n",
    "# plot an example\n",
    "def plot_example(X, y):\n",
    "    plt.imshow(X.reshape(28, 28), cmap='binary')\n",
    "    plt.axis(False)\n",
    "    plt.title(f\"{y}\")\n",
    "\n",
    "plot_example(X_train[index], y_train[index])\n",
    "plt.show()"
   ]
  },
  {
   "cell_type": "code",
   "execution_count": 6,
   "metadata": {},
   "outputs": [
    {
     "data": {
      "image/png": "[encoded data removed]",
      "text/plain": [
       "<Figure size 288x288 with 4 Axes>"
      ]
     },
     "metadata": {
      "needs_background": "light"
     },
     "output_type": "display_data"
    }
   ],
   "source": [
    "# plot a few examples\n",
    "fig = plt.figure(figsize=(4, 4))\n",
    "\n",
    "for i in range(4):\n",
    "    fig.add_subplot(2, 2, i+1)\n",
    "    plot_example(X_train[i], y_train[i])\n",
    "\n",
    "fig.tight_layout()\n",
    "plt.show()"
   ]
  },
  {
   "cell_type": "code",
   "execution_count": 7,
   "metadata": {},
   "outputs": [],
   "source": [
    "import numpy as np\n",
    "\n",
    "def one_hot_encode(x, num_classes=10):\n",
    "    x_one_hot = x.astype(int).reshape(-1)\n",
    "    x_one_hot = np.eye(num_classes)[x_one_hot]\n",
    "    return x_one_hot\n",
    "\n",
    "# one-hot encode labels\n",
    "y_train_one_hot = one_hot_encode(y_train)\n",
    "y_test_one_hot = one_hot_encode(y_test)"
   ]
  },
  {
   "cell_type": "code",
   "execution_count": 8,
   "metadata": {},
   "outputs": [],
   "source": [
    "# normalize the inputs\n",
    "X_train_normalized = X_train / 255.0\n",
    "X_test_normalized = X_test / 255.0"
   ]
  },
  {
   "cell_type": "code",
   "execution_count": 20,
   "metadata": {},
   "outputs": [],
   "source": [
    "from models import Sequential\n",
    "from layers import Linear, ReLU, Softmax, Tanh\n",
    "\n",
    "# create the model\n",
    "model = Sequential()\n",
    "model.add(Linear(16, input_shape=(784,)))\n",
    "model.add(ReLU())\n",
    "model.add(Linear(16))\n",
    "model.add(Tanh())\n",
    "model.add(Linear(10))\n",
    "model.add(Softmax())"
   ]
  },
  {
   "cell_type": "code",
   "execution_count": 21,
   "metadata": {},
   "outputs": [
    {
     "name": "stdout",
     "output_type": "stream",
     "text": [
      "loss=2.357509 \tcategorical_accuracy=0.092633\n",
      "(2.357509439536042, [0.09263334])\n"
     ]
    }
   ],
   "source": [
    "from losses import CategoricalCrossentropy\n",
    "from metrics import categorical_accuracy\n",
    "\n",
    "# prepare the model for training\n",
    "model.configure(loss=CategoricalCrossentropy(),\n",
    "                learning_rate=0.1,\n",
    "                metrics=[categorical_accuracy])\n",
    "\n",
    "print(model.evaluate(X_train_normalized, y_train_one_hot))"
   ]
  },
  {
   "cell_type": "code",
   "execution_count": 22,
   "metadata": {},
   "outputs": [
    {
     "name": "stdout",
     "output_type": "stream",
     "text": [
      "Epoch 01\tloss=2.280315 \tcategorical_accuracy=0.113117\n",
      "Epoch 02\tloss=2.227715 \tcategorical_accuracy=0.150833\n",
      "Epoch 03\tloss=2.171065 \tcategorical_accuracy=0.197250\n",
      "Epoch 04\tloss=2.105958 \tcategorical_accuracy=0.243317\n",
      "Epoch 05\tloss=2.037726 \tcategorical_accuracy=0.292983\n",
      "Epoch 06\tloss=1.973901 \tcategorical_accuracy=0.340583\n",
      "Epoch 07\tloss=1.915926 \tcategorical_accuracy=0.377600\n",
      "Epoch 08\tloss=1.862219 \tcategorical_accuracy=0.412717\n",
      "Epoch 09\tloss=1.811601 \tcategorical_accuracy=0.444050\n",
      "Epoch 10\tloss=1.763258 \tcategorical_accuracy=0.471683\n",
      "Epoch 11\tloss=1.716508 \tcategorical_accuracy=0.497067\n",
      "Epoch 12\tloss=1.670961 \tcategorical_accuracy=0.518183\n",
      "Epoch 13\tloss=1.626786 \tcategorical_accuracy=0.537567\n",
      "Epoch 14\tloss=1.584439 \tcategorical_accuracy=0.555300\n",
      "Epoch 15\tloss=1.544217 \tcategorical_accuracy=0.572500\n",
      "Epoch 16\tloss=1.506357 \tcategorical_accuracy=0.588283\n",
      "Epoch 17\tloss=1.470801 \tcategorical_accuracy=0.604133\n",
      "Epoch 18\tloss=1.437381 \tcategorical_accuracy=0.618017\n",
      "Epoch 19\tloss=1.405895 \tcategorical_accuracy=0.630733\n",
      "Epoch 20\tloss=1.376214 \tcategorical_accuracy=0.642767\n",
      "Epoch 21\tloss=1.348203 \tcategorical_accuracy=0.653933\n",
      "Epoch 22\tloss=1.321708 \tcategorical_accuracy=0.664667\n",
      "Epoch 23\tloss=1.296620 \tcategorical_accuracy=0.673683\n",
      "Epoch 24\tloss=1.272831 \tcategorical_accuracy=0.682050\n",
      "Epoch 25\tloss=1.250248 \tcategorical_accuracy=0.689683\n",
      "Epoch 26\tloss=1.228781 \tcategorical_accuracy=0.696667\n",
      "Epoch 27\tloss=1.208369 \tcategorical_accuracy=0.703883\n",
      "Epoch 28\tloss=1.188937 \tcategorical_accuracy=0.710483\n",
      "Epoch 29\tloss=1.170424 \tcategorical_accuracy=0.716017\n",
      "Epoch 30\tloss=1.152763 \tcategorical_accuracy=0.721417\n",
      "Epoch 31\tloss=1.135901 \tcategorical_accuracy=0.726133\n",
      "Epoch 32\tloss=1.119769 \tcategorical_accuracy=0.730850\n",
      "Epoch 33\tloss=1.104325 \tcategorical_accuracy=0.735283\n",
      "Epoch 34\tloss=1.089533 \tcategorical_accuracy=0.739850\n",
      "Epoch 35\tloss=1.075344 \tcategorical_accuracy=0.744050\n",
      "Epoch 36\tloss=1.061721 \tcategorical_accuracy=0.748283\n",
      "Epoch 37\tloss=1.048632 \tcategorical_accuracy=0.752417\n",
      "Epoch 38\tloss=1.036041 \tcategorical_accuracy=0.755633\n",
      "Epoch 39\tloss=1.023919 \tcategorical_accuracy=0.759000\n",
      "Epoch 40\tloss=1.012230 \tcategorical_accuracy=0.762383\n",
      "Epoch 41\tloss=1.000951 \tcategorical_accuracy=0.765283\n",
      "Epoch 42\tloss=0.990056 \tcategorical_accuracy=0.767883\n",
      "Epoch 43\tloss=0.979520 \tcategorical_accuracy=0.771000\n",
      "Epoch 44\tloss=0.969324 \tcategorical_accuracy=0.773867\n",
      "Epoch 45\tloss=0.959453 \tcategorical_accuracy=0.776633\n",
      "Epoch 46\tloss=0.949886 \tcategorical_accuracy=0.779017\n",
      "Epoch 47\tloss=0.940610 \tcategorical_accuracy=0.781050\n",
      "Epoch 48\tloss=0.931608 \tcategorical_accuracy=0.783300\n",
      "Epoch 49\tloss=0.922864 \tcategorical_accuracy=0.785600\n",
      "Epoch 50\tloss=0.914367 \tcategorical_accuracy=0.787733\n",
      "Epoch 51\tloss=0.906101 \tcategorical_accuracy=0.789617\n",
      "Epoch 52\tloss=0.898056 \tcategorical_accuracy=0.791583\n",
      "Epoch 53\tloss=0.890222 \tcategorical_accuracy=0.793267\n",
      "Epoch 54\tloss=0.882590 \tcategorical_accuracy=0.794900\n",
      "Epoch 55\tloss=0.875150 \tcategorical_accuracy=0.796850\n",
      "Epoch 56\tloss=0.867892 \tcategorical_accuracy=0.798450\n",
      "Epoch 57\tloss=0.860807 \tcategorical_accuracy=0.800283\n",
      "Epoch 58\tloss=0.853888 \tcategorical_accuracy=0.801917\n",
      "Epoch 59\tloss=0.847130 \tcategorical_accuracy=0.803350\n",
      "Epoch 60\tloss=0.840524 \tcategorical_accuracy=0.804917\n",
      "Epoch 61\tloss=0.834061 \tcategorical_accuracy=0.806367\n",
      "Epoch 62\tloss=0.827738 \tcategorical_accuracy=0.808000\n",
      "Epoch 63\tloss=0.821552 \tcategorical_accuracy=0.809583\n",
      "Epoch 64\tloss=0.815495 \tcategorical_accuracy=0.810750\n",
      "Epoch 65\tloss=0.809562 \tcategorical_accuracy=0.812083\n",
      "Epoch 66\tloss=0.803747 \tcategorical_accuracy=0.813600\n",
      "Epoch 67\tloss=0.798044 \tcategorical_accuracy=0.814967\n",
      "Epoch 68\tloss=0.792450 \tcategorical_accuracy=0.815900\n",
      "Epoch 69\tloss=0.786962 \tcategorical_accuracy=0.817183\n",
      "Epoch 70\tloss=0.781574 \tcategorical_accuracy=0.818417\n",
      "Epoch 71\tloss=0.776286 \tcategorical_accuracy=0.819567\n",
      "Epoch 72\tloss=0.771093 \tcategorical_accuracy=0.820800\n",
      "Epoch 73\tloss=0.765989 \tcategorical_accuracy=0.821983\n",
      "Epoch 74\tloss=0.760973 \tcategorical_accuracy=0.823200\n",
      "Epoch 75\tloss=0.756045 \tcategorical_accuracy=0.824450\n",
      "Epoch 76\tloss=0.751200 \tcategorical_accuracy=0.825433\n",
      "Epoch 77\tloss=0.746433 \tcategorical_accuracy=0.826633\n",
      "Epoch 78\tloss=0.741744 \tcategorical_accuracy=0.827667\n",
      "Epoch 79\tloss=0.737131 \tcategorical_accuracy=0.828750\n",
      "Epoch 80\tloss=0.732589 \tcategorical_accuracy=0.829650\n",
      "Epoch 81\tloss=0.728117 \tcategorical_accuracy=0.830783\n",
      "Epoch 82\tloss=0.723713 \tcategorical_accuracy=0.831967\n",
      "Epoch 83\tloss=0.719375 \tcategorical_accuracy=0.833050\n",
      "Epoch 84\tloss=0.715101 \tcategorical_accuracy=0.833833\n",
      "Epoch 85\tloss=0.710892 \tcategorical_accuracy=0.834850\n",
      "Epoch 86\tloss=0.706745 \tcategorical_accuracy=0.835883\n",
      "Epoch 87\tloss=0.702656 \tcategorical_accuracy=0.836917\n",
      "Epoch 88\tloss=0.698625 \tcategorical_accuracy=0.837633\n",
      "Epoch 89\tloss=0.694654 \tcategorical_accuracy=0.838450\n",
      "Epoch 90\tloss=0.690736 \tcategorical_accuracy=0.839250\n",
      "Epoch 91\tloss=0.686872 \tcategorical_accuracy=0.839967\n",
      "Epoch 92\tloss=0.683059 \tcategorical_accuracy=0.840767\n",
      "Epoch 93\tloss=0.679299 \tcategorical_accuracy=0.841433\n",
      "Epoch 94\tloss=0.675589 \tcategorical_accuracy=0.842517\n",
      "Epoch 95\tloss=0.671927 \tcategorical_accuracy=0.843200\n",
      "Epoch 96\tloss=0.668314 \tcategorical_accuracy=0.844050\n",
      "Epoch 97\tloss=0.664747 \tcategorical_accuracy=0.844800\n",
      "Epoch 98\tloss=0.661225 \tcategorical_accuracy=0.845667\n",
      "Epoch 99\tloss=0.657747 \tcategorical_accuracy=0.846350\n",
      "Epoch 100\tloss=0.654312 \tcategorical_accuracy=0.847150\n"
     ]
    }
   ],
   "source": [
    "# train the model\n",
    "model.train(X_train_normalized, y_train_one_hot, epochs=100);"
   ]
  },
  {
   "cell_type": "code",
   "execution_count": 23,
   "metadata": {},
   "outputs": [
    {
     "data": {
      "image/png": "[encoded data removed]",
      "text/plain": [
       "<Figure size 288x288 with 4 Axes>"
      ]
     },
     "metadata": {
      "needs_background": "light"
     },
     "output_type": "display_data"
    }
   ],
   "source": [
    "y_pred = np.argmax(model(X_train), axis=-1)\n",
    "\n",
    "# plot a few predictions\n",
    "fig = plt.figure(figsize=(4, 4))\n",
    "\n",
    "for i in range(4):\n",
    "    fig.add_subplot(2, 2, i+1)\n",
    "    plot_example(X_train[i+100], y_pred[i+100])\n",
    "\n",
    "fig.tight_layout()\n",
    "plt.show()"
   ]
  },
  {
   "cell_type": "code",
   "execution_count": 24,
   "metadata": {},
   "outputs": [
    {
     "data": {
      "image/png": "[encoded data removed]",
      "text/plain": [
       "<Figure size 432x288 with 1 Axes>"
      ]
     },
     "metadata": {
      "needs_background": "light"
     },
     "output_type": "display_data"
    },
    {
     "data": {
      "image/png": "[encoded data removed]",
      "text/plain": [
       "<Figure size 432x288 with 1 Axes>"
      ]
     },
     "metadata": {
      "needs_background": "light"
     },
     "output_type": "display_data"
    }
   ],
   "source": [
    "index = 10\n",
    "\n",
    "plot_example(X_train[index], y_train[index])\n",
    "plt.show()\n",
    "\n",
    "# trying to visualize the activation of the first layer\n",
    "A1 = model.layers[0].forward(X_train[index])\n",
    "A1 = A1.reshape(4, 4)\n",
    "plt.imshow(A1)\n",
    "plt.show()"
   ]
  }
 ],
 "metadata": {
  "kernelspec": {
   "display_name": "Python 3.7.3 64-bit",
   "language": "python",
   "name": "python37364bit5171d068c3054b8f80dd7b7dde0249a4"
  },
  "language_info": {
   "codemirror_mode": {
    "name": "ipython",
    "version": 3
   },
   "file_extension": ".py",
   "mimetype": "text/x-python",
   "name": "python",
   "nbconvert_exporter": "python",
   "pygments_lexer": "ipython3",
   "version": "3.7.3"
  }
 },
 "nbformat": 4,
 "nbformat_minor": 2
}
