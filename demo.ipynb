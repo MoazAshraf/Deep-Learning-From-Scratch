{
 "cells": [
  {
   "cell_type": "code",
   "execution_count": 4,
   "metadata": {},
   "outputs": [
    {
     "name": "stdout",
     "output_type": "stream",
     "text": [
      "Loss before training: 0.693147183636084\n",
      "Loss after training: 0.0030998333498558376\n"
     ]
    }
   ],
   "source": [
    "import numpy as np\n",
    "from layers import Dense\n",
    "from models import Sequential\n",
    "\n",
    "# create the model\n",
    "dense_layer = Dense(2, input_shape=(2,), activation='relu')\n",
    "output_layer = Dense(1, activation='sigmoid')\n",
    "model = Sequential([dense_layer, output_layer])\n",
    "\n",
    "# data\n",
    "X = np.array([[0, 0],\n",
    "              [0, 1],\n",
    "              [1, 0],\n",
    "              [1, 1]])\n",
    "y = np.array([[0],\n",
    "              [1],\n",
    "              [1],\n",
    "              [0]])\n",
    "\n",
    "model.compile(loss='binary_crossentropy', learning_rate=0.1)\n",
    "print(f\"Loss before training: {model.evaluate(X, y)}\")\n",
    "model.fit(X, y, epochs=2000, verbose=False)\n",
    "print(f\"Loss after training: {model.evaluate(X, y)}\")"
   ]
  },
  {
   "cell_type": "code",
   "execution_count": 2,
   "metadata": {},
   "outputs": [
    {
     "data": {
      "text/plain": [
       "array([[0.66637853],\n",
       "       [0.66637853],\n",
       "       [0.66637853],\n",
       "       [0.00231873]])"
      ]
     },
     "execution_count": 2,
     "metadata": {},
     "output_type": "execute_result"
    }
   ],
   "source": [
    "model(X)"
   ]
  }
 ],
 "metadata": {
  "kernelspec": {
   "display_name": "Python 3.7.3 64-bit",
   "language": "python",
   "name": "python37364bit5171d068c3054b8f80dd7b7dde0249a4"
  },
  "language_info": {
   "codemirror_mode": {
    "name": "ipython",
    "version": 3
   },
   "file_extension": ".py",
   "mimetype": "text/x-python",
   "name": "python",
   "nbconvert_exporter": "python",
   "pygments_lexer": "ipython3",
   "version": "3.7.3"
  }
 },
 "nbformat": 4,
 "nbformat_minor": 2
}
