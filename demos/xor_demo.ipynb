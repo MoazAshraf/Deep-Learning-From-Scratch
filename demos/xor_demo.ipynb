{
 "cells": [
  {
   "cell_type": "code",
   "execution_count": 1,
   "metadata": {
    "scrolled": true
   },
   "outputs": [],
   "source": [
    "%load_ext autoreload\n",
    "%autoreload 2"
   ]
  },
  {
   "cell_type": "code",
   "execution_count": 2,
   "metadata": {},
   "outputs": [
    {
     "name": "stdout",
     "output_type": "stream",
     "text": [
      "Before Training:\n",
      "loss=0.692402\tacc=0.500000\n",
      "After Training:\n",
      "loss=0.050552\tacc=1.000000\n"
     ]
    }
   ],
   "source": [
    "import sys\n",
    "sys.path.append(\"..\")\n",
    "\n",
    "import numpy as np\n",
    "from layers import Linear, ReLU, Sigmoid\n",
    "from models import Sequential\n",
    "from regularizers import L1L2\n",
    "from losses import BinaryCrossentropy\n",
    "from metrics import binary_accuracy\n",
    "from optimizers import SGD\n",
    "\n",
    "# create the model\n",
    "model = Sequential()\n",
    "model.add(Linear(10, input_shape=(2,)))\n",
    "model.add(ReLU())\n",
    "model.add(Linear(1))\n",
    "model.add(Sigmoid())\n",
    "\n",
    "# data\n",
    "X = np.array([[0, 0],\n",
    "              [0, 1],\n",
    "              [1, 0],\n",
    "              [1, 1]])\n",
    "y = np.array([[0],\n",
    "              [1],\n",
    "              [1],\n",
    "              [0]])\n",
    "\n",
    "model.configure(loss=BinaryCrossentropy(),\n",
    "                metrics={'acc': binary_accuracy},\n",
    "                optimizer=SGD(learning_rate=0.5, momentum_beta=0.9))\n",
    "\n",
    "print(f\"Before Training:\")\n",
    "model.evaluate(X, y)\n",
    "model.train(X, y, epochs=100, verbose=False);\n",
    "print(f\"After Training:\")\n",
    "model.evaluate(X, y);"
   ]
  },
  {
   "cell_type": "code",
   "execution_count": 3,
   "metadata": {},
   "outputs": [
    {
     "data": {
      "text/plain": [
       "array([[0.129],\n",
       "       [0.978],\n",
       "       [0.976],\n",
       "       [0.017]])"
      ]
     },
     "execution_count": 3,
     "metadata": {},
     "output_type": "execute_result"
    }
   ],
   "source": [
    "# predictions\n",
    "np.round(model(X), 3)"
   ]
  }
 ],
 "metadata": {
  "kernelspec": {
   "display_name": "Python 3.7.3 64-bit",
   "language": "python",
   "name": "python37364bit5171d068c3054b8f80dd7b7dde0249a4"
  },
  "language_info": {
   "codemirror_mode": {
    "name": "ipython",
    "version": 3
   },
   "file_extension": ".py",
   "mimetype": "text/x-python",
   "name": "python",
   "nbconvert_exporter": "python",
   "pygments_lexer": "ipython3",
   "version": "3.7.3"
  }
 },
 "nbformat": 4,
 "nbformat_minor": 2
}
