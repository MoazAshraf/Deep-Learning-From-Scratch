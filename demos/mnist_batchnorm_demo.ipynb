{
 "cells": [
  {
   "cell_type": "code",
   "execution_count": 1,
   "metadata": {
    "scrolled": false
   },
   "outputs": [],
   "source": [
    "# reloads modules when they are edited\n",
    "%load_ext autoreload\n",
    "%autoreload 2"
   ]
  },
  {
   "cell_type": "code",
   "execution_count": 2,
   "metadata": {},
   "outputs": [],
   "source": [
    "from sklearn.datasets import fetch_openml\n",
    "\n",
    "# load the MNIST dataset\n",
    "mnist_data = fetch_openml('mnist_784')"
   ]
  },
  {
   "cell_type": "code",
   "execution_count": 3,
   "metadata": {},
   "outputs": [
    {
     "name": "stdout",
     "output_type": "stream",
     "text": [
      "(7000, 784)\n",
      "(7000,)\n"
     ]
    }
   ],
   "source": [
    "# using a smaller dataset\n",
    "X = mnist_data['data'][:7000]\n",
    "y = mnist_data['target'][:7000]\n",
    "\n",
    "print(X.shape)\n",
    "print(y.shape)"
   ]
  },
  {
   "cell_type": "code",
   "execution_count": 4,
   "metadata": {},
   "outputs": [
    {
     "name": "stdout",
     "output_type": "stream",
     "text": [
      "(6000, 784)\n",
      "(6000,)\n",
      "(1000, 784)\n",
      "(1000,)\n"
     ]
    }
   ],
   "source": [
    "from sklearn.model_selection import train_test_split\n",
    "\n",
    "# split the data into training and test sets\n",
    "X_train, X_test, y_train, y_test = train_test_split(X, y, test_size=1/7, random_state=42)\n",
    "print(X_train.shape)\n",
    "print(y_train.shape)\n",
    "print(X_test.shape)\n",
    "print(y_test.shape)"
   ]
  },
  {
   "cell_type": "code",
   "execution_count": 5,
   "metadata": {},
   "outputs": [
    {
     "data": {
      "image/png": "[encoded data removed]",
      "text/plain": [
       "<Figure size 432x288 with 1 Axes>"
      ]
     },
     "metadata": {
      "needs_background": "light"
     },
     "output_type": "display_data"
    }
   ],
   "source": [
    "%matplotlib inline\n",
    "import matplotlib.pyplot as plt\n",
    "\n",
    "index = 2\n",
    "\n",
    "# plot an example\n",
    "def plot_example(X, y):\n",
    "    plt.imshow(X.reshape(28, 28), cmap='binary')\n",
    "    plt.axis(False)\n",
    "    plt.title(f\"{y}\")\n",
    "\n",
    "plot_example(X_train[index], y_train[index])\n",
    "plt.show()"
   ]
  },
  {
   "cell_type": "code",
   "execution_count": 6,
   "metadata": {},
   "outputs": [
    {
     "data": {
      "image/png": "[encoded data removed]",
      "text/plain": [
       "<Figure size 288x288 with 4 Axes>"
      ]
     },
     "metadata": {
      "needs_background": "light"
     },
     "output_type": "display_data"
    }
   ],
   "source": [
    "# plot a few examples\n",
    "fig = plt.figure(figsize=(4, 4))\n",
    "\n",
    "for i in range(4):\n",
    "    fig.add_subplot(2, 2, i+1)\n",
    "    plot_example(X_train[i], y_train[i])\n",
    "\n",
    "fig.tight_layout()\n",
    "plt.show()"
   ]
  },
  {
   "cell_type": "code",
   "execution_count": 7,
   "metadata": {},
   "outputs": [],
   "source": [
    "import numpy as np\n",
    "\n",
    "def one_hot_encode(x, num_classes=10):\n",
    "    x_one_hot = x.astype(int).reshape(-1)\n",
    "    x_one_hot = np.eye(num_classes)[x_one_hot]\n",
    "    return x_one_hot\n",
    "\n",
    "# one-hot encode labels\n",
    "y_train_one_hot = one_hot_encode(y_train)\n",
    "y_test_one_hot = one_hot_encode(y_test)"
   ]
  },
  {
   "cell_type": "code",
   "execution_count": 8,
   "metadata": {},
   "outputs": [],
   "source": [
    "# normalize the inputs\n",
    "X_train_normalized = X_train / 255.0\n",
    "X_test_normalized = X_test / 255.0"
   ]
  },
  {
   "cell_type": "code",
   "execution_count": 10,
   "metadata": {},
   "outputs": [
    {
     "name": "stdout",
     "output_type": "stream",
     "text": [
      "Epoch 01\tloss=1.077897\tval_loss=1.105925\tacc=0.765167\tval_acc=0.749000\n",
      "Epoch 02\tloss=0.627923\tval_loss=0.665009\tacc=0.844500\tval_acc=0.828000\n",
      "Epoch 03\tloss=0.488460\tval_loss=0.528684\tacc=0.870500\tval_acc=0.850000\n",
      "Epoch 04\tloss=0.416095\tval_loss=0.458339\tacc=0.886000\tval_acc=0.865000\n",
      "Epoch 05\tloss=0.364597\tval_loss=0.404517\tacc=0.902667\tval_acc=0.887000\n",
      "Epoch 06\tloss=0.334246\tval_loss=0.376918\tacc=0.910500\tval_acc=0.900000\n",
      "Epoch 07\tloss=0.311657\tval_loss=0.357271\tacc=0.912500\tval_acc=0.896000\n",
      "Epoch 08\tloss=0.286757\tval_loss=0.339068\tacc=0.922833\tval_acc=0.903000\n",
      "Epoch 09\tloss=0.270792\tval_loss=0.325827\tacc=0.926167\tval_acc=0.901000\n",
      "Epoch 10\tloss=0.255906\tval_loss=0.315254\tacc=0.932000\tval_acc=0.909000\n",
      "Epoch 11\tloss=0.244801\tval_loss=0.312836\tacc=0.933333\tval_acc=0.908000\n",
      "Epoch 12\tloss=0.231875\tval_loss=0.299110\tacc=0.940667\tval_acc=0.915000\n",
      "Epoch 13\tloss=0.223038\tval_loss=0.295450\tacc=0.940833\tval_acc=0.917000\n",
      "Epoch 14\tloss=0.212856\tval_loss=0.292785\tacc=0.941333\tval_acc=0.915000\n",
      "Epoch 15\tloss=0.203648\tval_loss=0.281911\tacc=0.946833\tval_acc=0.915000\n",
      "Epoch 16\tloss=0.199524\tval_loss=0.279511\tacc=0.945833\tval_acc=0.925000\n",
      "Epoch 17\tloss=0.185808\tval_loss=0.274109\tacc=0.949000\tval_acc=0.918000\n",
      "Epoch 18\tloss=0.181428\tval_loss=0.270722\tacc=0.952333\tval_acc=0.921000\n",
      "Epoch 19\tloss=0.174256\tval_loss=0.266770\tacc=0.952000\tval_acc=0.921000\n",
      "Epoch 20\tloss=0.169517\tval_loss=0.268400\tacc=0.953667\tval_acc=0.915000\n",
      "Epoch 21\tloss=0.162669\tval_loss=0.266374\tacc=0.957500\tval_acc=0.919000\n",
      "Epoch 22\tloss=0.156308\tval_loss=0.259710\tacc=0.957500\tval_acc=0.924000\n",
      "Epoch 23\tloss=0.150914\tval_loss=0.251605\tacc=0.960333\tval_acc=0.931000\n",
      "Epoch 24\tloss=0.144944\tval_loss=0.254229\tacc=0.962333\tval_acc=0.927000\n",
      "Epoch 25\tloss=0.138650\tval_loss=0.250218\tacc=0.964667\tval_acc=0.929000\n",
      "Epoch 26\tloss=0.136689\tval_loss=0.256820\tacc=0.961833\tval_acc=0.927000\n",
      "Epoch 27\tloss=0.129212\tval_loss=0.247659\tacc=0.966500\tval_acc=0.930000\n",
      "Epoch 28\tloss=0.126459\tval_loss=0.246150\tacc=0.966500\tval_acc=0.930000\n",
      "Epoch 29\tloss=0.120708\tval_loss=0.243237\tacc=0.968167\tval_acc=0.930000\n",
      "Epoch 30\tloss=0.118270\tval_loss=0.240405\tacc=0.969667\tval_acc=0.934000\n",
      "Epoch 31\tloss=0.116365\tval_loss=0.238120\tacc=0.969833\tval_acc=0.935000\n",
      "Epoch 32\tloss=0.109018\tval_loss=0.238439\tacc=0.971500\tval_acc=0.930000\n",
      "Epoch 33\tloss=0.104522\tval_loss=0.234385\tacc=0.974000\tval_acc=0.934000\n",
      "Epoch 34\tloss=0.101788\tval_loss=0.233690\tacc=0.975500\tval_acc=0.935000\n",
      "Epoch 35\tloss=0.097677\tval_loss=0.230848\tacc=0.977000\tval_acc=0.932000\n",
      "Epoch 36\tloss=0.095101\tval_loss=0.230109\tacc=0.978167\tval_acc=0.935000\n",
      "Epoch 37\tloss=0.094177\tval_loss=0.235456\tacc=0.977000\tval_acc=0.933000\n",
      "Epoch 38\tloss=0.088094\tval_loss=0.227979\tacc=0.980333\tval_acc=0.933000\n",
      "Epoch 39\tloss=0.086545\tval_loss=0.227187\tacc=0.978833\tval_acc=0.933000\n",
      "Epoch 40\tloss=0.083553\tval_loss=0.224172\tacc=0.980500\tval_acc=0.933000\n",
      "Epoch 41\tloss=0.081973\tval_loss=0.226378\tacc=0.980333\tval_acc=0.934000\n",
      "Epoch 42\tloss=0.081593\tval_loss=0.233557\tacc=0.982333\tval_acc=0.933000\n",
      "Epoch 43\tloss=0.074979\tval_loss=0.223235\tacc=0.983833\tval_acc=0.933000\n",
      "Epoch 44\tloss=0.072407\tval_loss=0.226266\tacc=0.985167\tval_acc=0.935000\n",
      "Epoch 45\tloss=0.070812\tval_loss=0.223988\tacc=0.985500\tval_acc=0.937000\n",
      "Epoch 46\tloss=0.069050\tval_loss=0.228076\tacc=0.985667\tval_acc=0.938000\n",
      "Epoch 47\tloss=0.065571\tval_loss=0.223707\tacc=0.987167\tval_acc=0.937000\n",
      "Epoch 48\tloss=0.063848\tval_loss=0.224749\tacc=0.988000\tval_acc=0.937000\n",
      "Epoch 49\tloss=0.061744\tval_loss=0.218144\tacc=0.987833\tval_acc=0.938000\n",
      "Epoch 50\tloss=0.061454\tval_loss=0.221427\tacc=0.989000\tval_acc=0.937000\n",
      "Epoch 51\tloss=0.060270\tval_loss=0.227217\tacc=0.988667\tval_acc=0.937000\n",
      "Epoch 52\tloss=0.055459\tval_loss=0.219183\tacc=0.990167\tval_acc=0.939000\n",
      "Epoch 53\tloss=0.054647\tval_loss=0.221015\tacc=0.990333\tval_acc=0.935000\n",
      "Epoch 54\tloss=0.054842\tval_loss=0.226769\tacc=0.990000\tval_acc=0.937000\n",
      "Epoch 55\tloss=0.050858\tval_loss=0.220649\tacc=0.991333\tval_acc=0.937000\n",
      "Epoch 56\tloss=0.049604\tval_loss=0.221424\tacc=0.992000\tval_acc=0.935000\n",
      "Epoch 57\tloss=0.048039\tval_loss=0.218424\tacc=0.992667\tval_acc=0.940000\n",
      "Epoch 58\tloss=0.046343\tval_loss=0.219738\tacc=0.993500\tval_acc=0.937000\n",
      "Epoch 59\tloss=0.044827\tval_loss=0.217420\tacc=0.994667\tval_acc=0.939000\n",
      "Epoch 60\tloss=0.044248\tval_loss=0.221970\tacc=0.993667\tval_acc=0.938000\n",
      "Epoch 61\tloss=0.042199\tval_loss=0.218633\tacc=0.994500\tval_acc=0.940000\n",
      "Epoch 62\tloss=0.042281\tval_loss=0.221624\tacc=0.994500\tval_acc=0.940000\n",
      "Epoch 63\tloss=0.041547\tval_loss=0.222034\tacc=0.994167\tval_acc=0.940000\n",
      "Epoch 64\tloss=0.038828\tval_loss=0.219973\tacc=0.996000\tval_acc=0.941000\n",
      "Epoch 65\tloss=0.037844\tval_loss=0.220170\tacc=0.996000\tval_acc=0.942000\n",
      "Epoch 66\tloss=0.036854\tval_loss=0.221527\tacc=0.995833\tval_acc=0.940000\n",
      "Epoch 67\tloss=0.035853\tval_loss=0.219861\tacc=0.996667\tval_acc=0.939000\n",
      "Epoch 68\tloss=0.035022\tval_loss=0.219183\tacc=0.996833\tval_acc=0.938000\n",
      "Epoch 69\tloss=0.034556\tval_loss=0.218937\tacc=0.996833\tval_acc=0.938000\n",
      "Epoch 70\tloss=0.033208\tval_loss=0.220126\tacc=0.997000\tval_acc=0.940000\n",
      "Epoch 71\tloss=0.032198\tval_loss=0.220998\tacc=0.997167\tval_acc=0.940000\n",
      "Epoch 72\tloss=0.031378\tval_loss=0.219926\tacc=0.997667\tval_acc=0.938000\n",
      "Epoch 73\tloss=0.030507\tval_loss=0.219139\tacc=0.997667\tval_acc=0.941000\n",
      "Epoch 74\tloss=0.029804\tval_loss=0.221810\tacc=0.998000\tval_acc=0.937000\n",
      "Epoch 75\tloss=0.028738\tval_loss=0.221246\tacc=0.998333\tval_acc=0.940000\n",
      "Epoch 76\tloss=0.028062\tval_loss=0.222226\tacc=0.998000\tval_acc=0.937000\n",
      "Epoch 77\tloss=0.027387\tval_loss=0.222758\tacc=0.998167\tval_acc=0.938000\n",
      "Epoch 78\tloss=0.026824\tval_loss=0.221710\tacc=0.997667\tval_acc=0.938000\n",
      "Epoch 79\tloss=0.025991\tval_loss=0.223685\tacc=0.998500\tval_acc=0.939000\n",
      "Epoch 80\tloss=0.025654\tval_loss=0.222893\tacc=0.997667\tval_acc=0.939000\n",
      "Epoch 81\tloss=0.024447\tval_loss=0.219856\tacc=0.998667\tval_acc=0.938000\n",
      "Epoch 82\tloss=0.024568\tval_loss=0.221001\tacc=0.998833\tval_acc=0.940000\n",
      "Epoch 83\tloss=0.023734\tval_loss=0.222713\tacc=0.998667\tval_acc=0.940000\n",
      "Epoch 84\tloss=0.022981\tval_loss=0.223889\tacc=0.999000\tval_acc=0.937000\n",
      "Epoch 85\tloss=0.022353\tval_loss=0.222165\tacc=0.998833\tval_acc=0.937000\n",
      "Epoch 86\tloss=0.021868\tval_loss=0.221220\tacc=0.999000\tval_acc=0.937000\n",
      "Epoch 87\tloss=0.021399\tval_loss=0.224426\tacc=0.999167\tval_acc=0.938000\n",
      "Epoch 88\tloss=0.020982\tval_loss=0.223213\tacc=0.999167\tval_acc=0.937000\n",
      "Epoch 89\tloss=0.020178\tval_loss=0.221915\tacc=0.999167\tval_acc=0.941000\n",
      "Epoch 90\tloss=0.020715\tval_loss=0.225328\tacc=0.999333\tval_acc=0.936000\n",
      "Epoch 91\tloss=0.019474\tval_loss=0.227076\tacc=0.999333\tval_acc=0.940000\n",
      "Epoch 92\tloss=0.019096\tval_loss=0.224165\tacc=0.999167\tval_acc=0.940000\n",
      "Epoch 93\tloss=0.018725\tval_loss=0.224804\tacc=0.999333\tval_acc=0.938000\n",
      "Epoch 94\tloss=0.018463\tval_loss=0.225397\tacc=0.999500\tval_acc=0.936000\n",
      "Epoch 95\tloss=0.017578\tval_loss=0.223118\tacc=0.999333\tval_acc=0.937000\n",
      "Epoch 96\tloss=0.017723\tval_loss=0.224165\tacc=0.999500\tval_acc=0.939000\n",
      "Epoch 97\tloss=0.017007\tval_loss=0.224755\tacc=0.999500\tval_acc=0.938000\n",
      "Epoch 98\tloss=0.016507\tval_loss=0.223843\tacc=0.999500\tval_acc=0.938000\n",
      "Epoch 99\tloss=0.016327\tval_loss=0.225581\tacc=0.999333\tval_acc=0.938000\n",
      "Epoch 100\tloss=0.015981\tval_loss=0.224848\tacc=0.999333\tval_acc=0.939000\n"
     ]
    }
   ],
   "source": [
    "import sys\n",
    "sys.path.append(\"..\")\n",
    "\n",
    "from models import Sequential\n",
    "from layers import Linear, ReLU, Softmax\n",
    "from losses import CategoricalCrossentropy\n",
    "from metrics import categorical_accuracy\n",
    "from optimizers import SGD\n",
    "\n",
    "# create the model\n",
    "model = Sequential()\n",
    "model.add(Linear(128, input_shape=(784,)))\n",
    "model.add(ReLU())\n",
    "model.add(Linear(64))\n",
    "model.add(ReLU())\n",
    "model.add(Linear(10))\n",
    "model.add(Softmax())\n",
    "\n",
    "# using SGD with no momentum\n",
    "model.configure(loss=CategoricalCrossentropy(),\n",
    "                optimizer=SGD(learning_rate=0.01),\n",
    "                metrics={\"acc\": categorical_accuracy})\n",
    "\n",
    "# train the model\n",
    "history = model.train(X_train_normalized, y_train_one_hot,\n",
    "                          X_test_normalized, y_test_one_hot, epochs=100)"
   ]
  },
  {
   "cell_type": "code",
   "execution_count": null,
   "metadata": {},
   "outputs": [
    {
     "name": "stdout",
     "output_type": "stream",
     "text": [
      "Epoch 01\tloss=0.547421\tval_loss=0.594402\tacc=0.853167\tval_acc=0.832000\n",
      "Epoch 02\tloss=0.396830\tval_loss=0.451709\tacc=0.896167\tval_acc=0.870000\n",
      "Epoch 03\tloss=0.322139\tval_loss=0.379591\tacc=0.916500\tval_acc=0.894000\n",
      "Epoch 04\tloss=0.276247\tval_loss=0.342021\tacc=0.927667\tval_acc=0.907000\n",
      "Epoch 05\tloss=0.243706\tval_loss=0.314723\tacc=0.939667\tval_acc=0.905000\n",
      "Epoch 06\tloss=0.218309\tval_loss=0.293312\tacc=0.946500\tval_acc=0.916000\n",
      "Epoch 07\tloss=0.199764\tval_loss=0.277071\tacc=0.950333\tval_acc=0.917000\n",
      "Epoch 08\tloss=0.184614\tval_loss=0.260001\tacc=0.954500\tval_acc=0.925000\n",
      "Epoch 09\tloss=0.169355\tval_loss=0.252352\tacc=0.958667\tval_acc=0.925000\n",
      "Epoch 10\tloss=0.158082\tval_loss=0.243861\tacc=0.960500\tval_acc=0.924000\n",
      "Epoch 11\tloss=0.146724\tval_loss=0.237513\tacc=0.963833\tval_acc=0.926000\n",
      "Epoch 12\tloss=0.138719\tval_loss=0.229092\tacc=0.966667\tval_acc=0.932000\n",
      "Epoch 13\tloss=0.130517\tval_loss=0.222797\tacc=0.968167\tval_acc=0.934000\n",
      "Epoch 14\tloss=0.121827\tval_loss=0.222576\tacc=0.971333\tval_acc=0.934000\n",
      "Epoch 15\tloss=0.114562\tval_loss=0.215852\tacc=0.973333\tval_acc=0.935000\n",
      "Epoch 16\tloss=0.108450\tval_loss=0.212354\tacc=0.973667\tval_acc=0.938000\n",
      "Epoch 17\tloss=0.103083\tval_loss=0.208106\tacc=0.976000\tval_acc=0.940000\n",
      "Epoch 18\tloss=0.098477\tval_loss=0.207121\tacc=0.976667\tval_acc=0.943000\n",
      "Epoch 19\tloss=0.092992\tval_loss=0.203673\tacc=0.977167\tval_acc=0.939000\n",
      "Epoch 20\tloss=0.088567\tval_loss=0.200584\tacc=0.979000\tval_acc=0.941000\n",
      "Epoch 21\tloss=0.084652\tval_loss=0.199267\tacc=0.980167\tval_acc=0.943000\n",
      "Epoch 22\tloss=0.080650\tval_loss=0.197315\tacc=0.980500\tval_acc=0.943000\n",
      "Epoch 23\tloss=0.077873\tval_loss=0.195414\tacc=0.983000\tval_acc=0.945000\n",
      "Epoch 24\tloss=0.073257\tval_loss=0.192509\tacc=0.983500\tval_acc=0.945000\n",
      "Epoch 25\tloss=0.069751\tval_loss=0.190747\tacc=0.984667\tval_acc=0.946000\n",
      "Epoch 26\tloss=0.066653\tval_loss=0.188655\tacc=0.986000\tval_acc=0.946000\n",
      "Epoch 27\tloss=0.063823\tval_loss=0.187109\tacc=0.986333\tval_acc=0.946000\n",
      "Epoch 28\tloss=0.060864\tval_loss=0.186510\tacc=0.987167\tval_acc=0.942000\n",
      "Epoch 29\tloss=0.058296\tval_loss=0.185894\tacc=0.988167\tval_acc=0.948000\n",
      "Epoch 30\tloss=0.055924\tval_loss=0.183960\tacc=0.988667\tval_acc=0.947000\n",
      "Epoch 31\tloss=0.053476\tval_loss=0.185787\tacc=0.989167\tval_acc=0.946000\n",
      "Epoch 32\tloss=0.050367\tval_loss=0.184300\tacc=0.990667\tval_acc=0.949000\n",
      "Epoch 33\tloss=0.048978\tval_loss=0.183916\tacc=0.990167\tval_acc=0.947000\n",
      "Epoch 34\tloss=0.046753\tval_loss=0.185761\tacc=0.990833\tval_acc=0.947000\n",
      "Epoch 35\tloss=0.046035\tval_loss=0.184803\tacc=0.991500\tval_acc=0.950000\n",
      "Epoch 36\tloss=0.044166\tval_loss=0.182099\tacc=0.991667\tval_acc=0.951000\n",
      "Epoch 37\tloss=0.042066\tval_loss=0.180281\tacc=0.993000\tval_acc=0.951000\n",
      "Epoch 38\tloss=0.040388\tval_loss=0.180754\tacc=0.993333\tval_acc=0.950000\n",
      "Epoch 39\tloss=0.038797\tval_loss=0.180020\tacc=0.994000\tval_acc=0.952000\n",
      "Epoch 40\tloss=0.037031\tval_loss=0.178761\tacc=0.994167\tval_acc=0.952000\n",
      "Epoch 41\tloss=0.036192\tval_loss=0.178800\tacc=0.993833\tval_acc=0.951000\n",
      "Epoch 42\tloss=0.035001\tval_loss=0.180746\tacc=0.994167\tval_acc=0.952000\n",
      "Epoch 43\tloss=0.032959\tval_loss=0.180286\tacc=0.995667\tval_acc=0.950000\n",
      "Epoch 44\tloss=0.031569\tval_loss=0.181846\tacc=0.996333\tval_acc=0.951000\n",
      "Epoch 45\tloss=0.030508\tval_loss=0.181195\tacc=0.996167\tval_acc=0.949000\n",
      "Epoch 46\tloss=0.029403\tval_loss=0.181244\tacc=0.996500\tval_acc=0.949000\n",
      "Epoch 47\tloss=0.028812\tval_loss=0.177909\tacc=0.996333\tval_acc=0.950000\n",
      "Epoch 48\tloss=0.027321\tval_loss=0.181831\tacc=0.996833\tval_acc=0.949000\n",
      "Epoch 49\tloss=0.026799\tval_loss=0.182027\tacc=0.997333\tval_acc=0.950000\n",
      "Epoch 50\tloss=0.025662\tval_loss=0.177952\tacc=0.997000\tval_acc=0.951000\n",
      "Epoch 51\tloss=0.024576\tval_loss=0.177869\tacc=0.997000\tval_acc=0.948000\n",
      "Epoch 52\tloss=0.024088\tval_loss=0.178420\tacc=0.997500\tval_acc=0.953000\n",
      "Epoch 53\tloss=0.023081\tval_loss=0.178395\tacc=0.998000\tval_acc=0.952000\n",
      "Epoch 54\tloss=0.022220\tval_loss=0.178618\tacc=0.997833\tval_acc=0.951000\n",
      "Epoch 55\tloss=0.021169\tval_loss=0.177087\tacc=0.998000\tval_acc=0.949000\n",
      "Epoch 56\tloss=0.020698\tval_loss=0.176212\tacc=0.998167\tval_acc=0.954000\n",
      "Epoch 57\tloss=0.019920\tval_loss=0.177154\tacc=0.998333\tval_acc=0.953000\n",
      "Epoch 58\tloss=0.019383\tval_loss=0.176000\tacc=0.998333\tval_acc=0.952000\n",
      "Epoch 59\tloss=0.018426\tval_loss=0.177469\tacc=0.998500\tval_acc=0.953000\n",
      "Epoch 60\tloss=0.018017\tval_loss=0.178471\tacc=0.998500\tval_acc=0.951000\n",
      "Epoch 61\tloss=0.017493\tval_loss=0.178527\tacc=0.998167\tval_acc=0.953000\n",
      "Epoch 62\tloss=0.016737\tval_loss=0.177874\tacc=0.998833\tval_acc=0.952000\n",
      "Epoch 63\tloss=0.016634\tval_loss=0.178801\tacc=0.998667\tval_acc=0.952000\n",
      "Epoch 64\tloss=0.016185\tval_loss=0.178899\tacc=0.998833\tval_acc=0.952000\n",
      "Epoch 65\tloss=0.015490\tval_loss=0.178564\tacc=0.998833\tval_acc=0.951000\n",
      "Epoch 66\tloss=0.015012\tval_loss=0.180298\tacc=0.998833\tval_acc=0.952000\n",
      "Epoch 67\tloss=0.014735\tval_loss=0.178741\tacc=0.998833\tval_acc=0.949000\n",
      "Epoch 68\tloss=0.014352\tval_loss=0.177065\tacc=0.998833\tval_acc=0.950000\n",
      "Epoch 69\tloss=0.013841\tval_loss=0.174688\tacc=0.998667\tval_acc=0.951000\n",
      "Epoch 70\tloss=0.013512\tval_loss=0.176255\tacc=0.998833\tval_acc=0.954000\n",
      "Epoch 71\tloss=0.012926\tval_loss=0.176340\tacc=0.998667\tval_acc=0.952000\n",
      "Epoch 72\tloss=0.012744\tval_loss=0.177937\tacc=0.998833\tval_acc=0.951000\n",
      "Epoch 73\tloss=0.012163\tval_loss=0.177185\tacc=0.999000\tval_acc=0.949000\n",
      "Epoch 74\tloss=0.011855\tval_loss=0.177544\tacc=0.998833\tval_acc=0.949000\n",
      "Epoch 75\tloss=0.011814\tval_loss=0.176713\tacc=0.999167\tval_acc=0.955000\n",
      "Epoch 76\tloss=0.011089\tval_loss=0.176283\tacc=0.999167\tval_acc=0.950000\n",
      "Epoch 77\tloss=0.010819\tval_loss=0.176062\tacc=0.999000\tval_acc=0.951000\n",
      "Epoch 78\tloss=0.010548\tval_loss=0.174316\tacc=0.999333\tval_acc=0.951000\n",
      "Epoch 79\tloss=0.010368\tval_loss=0.177169\tacc=0.999333\tval_acc=0.954000\n",
      "Epoch 80\tloss=0.010043\tval_loss=0.176129\tacc=0.999167\tval_acc=0.951000\n",
      "Epoch 81\tloss=0.009836\tval_loss=0.178555\tacc=0.999333\tval_acc=0.951000\n",
      "Epoch 82\tloss=0.009587\tval_loss=0.179932\tacc=0.999500\tval_acc=0.953000\n",
      "Epoch 83\tloss=0.009497\tval_loss=0.176648\tacc=0.999667\tval_acc=0.956000\n",
      "Epoch 84\tloss=0.009084\tval_loss=0.176756\tacc=0.999667\tval_acc=0.953000\n",
      "Epoch 85\tloss=0.008888\tval_loss=0.177813\tacc=0.999667\tval_acc=0.953000\n",
      "Epoch 86\tloss=0.008695\tval_loss=0.177380\tacc=0.999333\tval_acc=0.953000\n",
      "Epoch 87\tloss=0.008546\tval_loss=0.178461\tacc=0.999500\tval_acc=0.952000\n",
      "Epoch 88\tloss=0.008209\tval_loss=0.176752\tacc=0.999500\tval_acc=0.956000\n",
      "Epoch 89\tloss=0.008676\tval_loss=0.177366\tacc=0.999333\tval_acc=0.953000\n",
      "Epoch 90\tloss=0.008245\tval_loss=0.178051\tacc=0.999500\tval_acc=0.952000\n",
      "Epoch 91\tloss=0.008059\tval_loss=0.178211\tacc=0.999500\tval_acc=0.951000\n",
      "Epoch 92\tloss=0.007912\tval_loss=0.179596\tacc=0.999500\tval_acc=0.952000\n",
      "Epoch 93\tloss=0.007738\tval_loss=0.178498\tacc=0.999667\tval_acc=0.950000\n",
      "Epoch 94\tloss=0.007600\tval_loss=0.179285\tacc=0.999667\tval_acc=0.954000\n"
     ]
    }
   ],
   "source": [
    "from layers import BatchNormalization\n",
    "\n",
    "# create the model\n",
    "model = Sequential()\n",
    "model.add(Linear(128, input_shape=(784,)))\n",
    "model.add(ReLU())\n",
    "model.add(BatchNormalization())\n",
    "model.add(Linear(64))\n",
    "model.add(ReLU())\n",
    "model.add(BatchNormalization())\n",
    "model.add(Linear(10))\n",
    "model.add(Softmax())\n",
    "\n",
    "# using SGD with no momentum\n",
    "model.configure(loss=CategoricalCrossentropy(),\n",
    "                optimizer=SGD(learning_rate=0.01),\n",
    "                metrics={\"acc\": categorical_accuracy})\n",
    "\n",
    "# train the model\n",
    "history = model.train(X_train_normalized, y_train_one_hot,\n",
    "                          X_test_normalized, y_test_one_hot, epochs=100)"
   ]
  }
 ],
 "metadata": {
  "kernelspec": {
   "display_name": "Python 3.7.3 64-bit",
   "language": "python",
   "name": "python37364bit5171d068c3054b8f80dd7b7dde0249a4"
  },
  "language_info": {
   "codemirror_mode": {
    "name": "ipython",
    "version": 3
   },
   "file_extension": ".py",
   "mimetype": "text/x-python",
   "name": "python",
   "nbconvert_exporter": "python",
   "pygments_lexer": "ipython3",
   "version": "3.7.3"
  }
 },
 "nbformat": 4,
 "nbformat_minor": 2
}
