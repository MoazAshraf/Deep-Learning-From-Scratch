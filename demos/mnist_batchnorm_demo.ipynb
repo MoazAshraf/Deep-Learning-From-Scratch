{
 "cells": [
  {
   "cell_type": "code",
   "execution_count": 1,
   "metadata": {
    "scrolled": false
   },
   "outputs": [],
   "source": [
    "# reloads modules when they are edited\n",
    "%load_ext autoreload\n",
    "%autoreload 2"
   ]
  },
  {
   "cell_type": "code",
   "execution_count": 2,
   "metadata": {},
   "outputs": [],
   "source": [
    "from sklearn.datasets import fetch_openml\n",
    "\n",
    "# load the MNIST dataset\n",
    "mnist_data = fetch_openml('mnist_784')"
   ]
  },
  {
   "cell_type": "code",
   "execution_count": 3,
   "metadata": {},
   "outputs": [
    {
     "name": "stdout",
     "output_type": "stream",
     "text": [
      "(7000, 784)\n",
      "(7000,)\n"
     ]
    }
   ],
   "source": [
    "# using a smaller dataset\n",
    "X = mnist_data['data'][:7000]\n",
    "y = mnist_data['target'][:7000]\n",
    "\n",
    "print(X.shape)\n",
    "print(y.shape)"
   ]
  },
  {
   "cell_type": "code",
   "execution_count": 4,
   "metadata": {},
   "outputs": [
    {
     "name": "stdout",
     "output_type": "stream",
     "text": [
      "(6000, 784)\n",
      "(6000,)\n",
      "(1000, 784)\n",
      "(1000,)\n"
     ]
    }
   ],
   "source": [
    "from sklearn.model_selection import train_test_split\n",
    "\n",
    "# split the data into training and test sets\n",
    "X_train, X_test, y_train, y_test = train_test_split(X, y, test_size=1/7, random_state=42)\n",
    "print(X_train.shape)\n",
    "print(y_train.shape)\n",
    "print(X_test.shape)\n",
    "print(y_test.shape)"
   ]
  },
  {
   "cell_type": "code",
   "execution_count": 5,
   "metadata": {},
   "outputs": [
    {
     "data": {
      "image/png": "[encoded data removed]",
      "text/plain": [
       "<Figure size 432x288 with 1 Axes>"
      ]
     },
     "metadata": {
      "needs_background": "light"
     },
     "output_type": "display_data"
    }
   ],
   "source": [
    "%matplotlib inline\n",
    "import matplotlib.pyplot as plt\n",
    "\n",
    "index = 2\n",
    "\n",
    "# plot an example\n",
    "def plot_example(X, y):\n",
    "    plt.imshow(X.reshape(28, 28), cmap='binary')\n",
    "    plt.axis(False)\n",
    "    plt.title(f\"{y}\")\n",
    "\n",
    "plot_example(X_train[index], y_train[index])\n",
    "plt.show()"
   ]
  },
  {
   "cell_type": "code",
   "execution_count": 6,
   "metadata": {},
   "outputs": [
    {
     "data": {
      "image/png": "[encoded data removed]",
      "text/plain": [
       "<Figure size 288x288 with 4 Axes>"
      ]
     },
     "metadata": {
      "needs_background": "light"
     },
     "output_type": "display_data"
    }
   ],
   "source": [
    "# plot a few examples\n",
    "fig = plt.figure(figsize=(4, 4))\n",
    "\n",
    "for i in range(4):\n",
    "    fig.add_subplot(2, 2, i+1)\n",
    "    plot_example(X_train[i], y_train[i])\n",
    "\n",
    "fig.tight_layout()\n",
    "plt.show()"
   ]
  },
  {
   "cell_type": "code",
   "execution_count": 7,
   "metadata": {},
   "outputs": [],
   "source": [
    "import numpy as np\n",
    "\n",
    "def one_hot_encode(x, num_classes=10):\n",
    "    x_one_hot = x.astype(int).reshape(-1)\n",
    "    x_one_hot = np.eye(num_classes)[x_one_hot]\n",
    "    return x_one_hot\n",
    "\n",
    "# one-hot encode labels\n",
    "y_train_one_hot = one_hot_encode(y_train)\n",
    "y_test_one_hot = one_hot_encode(y_test)"
   ]
  },
  {
   "cell_type": "code",
   "execution_count": 8,
   "metadata": {},
   "outputs": [],
   "source": [
    "# normalize the inputs\n",
    "X_train_normalized = X_train / 255.0\n",
    "X_test_normalized = X_test / 255.0"
   ]
  },
  {
   "cell_type": "code",
   "execution_count": 9,
   "metadata": {},
   "outputs": [
    {
     "name": "stdout",
     "output_type": "stream",
     "text": [
      "Epoch 01\tloss=1.000415\tval_loss=1.035709\tacc=0.785000\tval_acc=0.760000\n",
      "Epoch 02\tloss=0.594448\tval_loss=0.641195\tacc=0.855667\tval_acc=0.822000\n",
      "Epoch 03\tloss=0.455887\tval_loss=0.497866\tacc=0.883500\tval_acc=0.861000\n",
      "Epoch 04\tloss=0.392710\tval_loss=0.439055\tacc=0.895500\tval_acc=0.880000\n",
      "Epoch 05\tloss=0.357834\tval_loss=0.406318\tacc=0.901667\tval_acc=0.892000\n",
      "Epoch 06\tloss=0.321606\tval_loss=0.369735\tacc=0.912500\tval_acc=0.897000\n",
      "Epoch 07\tloss=0.299762\tval_loss=0.349602\tacc=0.919167\tval_acc=0.907000\n",
      "Epoch 08\tloss=0.284933\tval_loss=0.339706\tacc=0.919167\tval_acc=0.906000\n",
      "Epoch 09\tloss=0.266751\tval_loss=0.325010\tacc=0.924167\tval_acc=0.910000\n",
      "Epoch 10\tloss=0.253676\tval_loss=0.314724\tacc=0.933167\tval_acc=0.908000\n",
      "Epoch 11\tloss=0.236043\tval_loss=0.300109\tacc=0.936167\tval_acc=0.918000\n",
      "Epoch 12\tloss=0.226014\tval_loss=0.291893\tacc=0.941167\tval_acc=0.918000\n",
      "Epoch 13\tloss=0.215520\tval_loss=0.285833\tacc=0.944000\tval_acc=0.920000\n",
      "Epoch 14\tloss=0.212359\tval_loss=0.284531\tacc=0.944833\tval_acc=0.914000\n",
      "Epoch 15\tloss=0.197393\tval_loss=0.273182\tacc=0.949667\tval_acc=0.922000\n",
      "Epoch 16\tloss=0.189730\tval_loss=0.270269\tacc=0.949833\tval_acc=0.919000\n",
      "Epoch 17\tloss=0.182315\tval_loss=0.263837\tacc=0.952500\tval_acc=0.923000\n",
      "Epoch 18\tloss=0.175071\tval_loss=0.261378\tacc=0.954167\tval_acc=0.919000\n",
      "Epoch 19\tloss=0.167302\tval_loss=0.258896\tacc=0.957667\tval_acc=0.926000\n",
      "Epoch 20\tloss=0.160430\tval_loss=0.249918\tacc=0.959667\tval_acc=0.933000\n",
      "Epoch 21\tloss=0.154122\tval_loss=0.245517\tacc=0.959667\tval_acc=0.931000\n",
      "Epoch 22\tloss=0.151342\tval_loss=0.250064\tacc=0.960833\tval_acc=0.924000\n",
      "Epoch 23\tloss=0.143879\tval_loss=0.242410\tacc=0.965833\tval_acc=0.930000\n",
      "Epoch 24\tloss=0.137844\tval_loss=0.239760\tacc=0.965000\tval_acc=0.930000\n",
      "Epoch 25\tloss=0.135651\tval_loss=0.244849\tacc=0.967333\tval_acc=0.931000\n",
      "Epoch 26\tloss=0.129388\tval_loss=0.240498\tacc=0.966500\tval_acc=0.933000\n",
      "Epoch 27\tloss=0.124516\tval_loss=0.235210\tacc=0.969500\tval_acc=0.930000\n",
      "Epoch 28\tloss=0.118949\tval_loss=0.230342\tacc=0.969167\tval_acc=0.938000\n",
      "Epoch 29\tloss=0.114992\tval_loss=0.232122\tacc=0.973000\tval_acc=0.933000\n",
      "Epoch 30\tloss=0.110848\tval_loss=0.227137\tacc=0.973833\tval_acc=0.939000\n",
      "Epoch 31\tloss=0.108029\tval_loss=0.227178\tacc=0.974167\tval_acc=0.940000\n",
      "Epoch 32\tloss=0.102343\tval_loss=0.225838\tacc=0.978000\tval_acc=0.941000\n",
      "Epoch 33\tloss=0.099445\tval_loss=0.220997\tacc=0.977833\tval_acc=0.940000\n",
      "Epoch 34\tloss=0.096859\tval_loss=0.225273\tacc=0.977667\tval_acc=0.938000\n",
      "Epoch 35\tloss=0.092502\tval_loss=0.219321\tacc=0.980333\tval_acc=0.940000\n",
      "Epoch 36\tloss=0.089375\tval_loss=0.222598\tacc=0.980000\tval_acc=0.940000\n",
      "Epoch 37\tloss=0.085650\tval_loss=0.217148\tacc=0.982667\tval_acc=0.943000\n",
      "Epoch 38\tloss=0.083583\tval_loss=0.220103\tacc=0.981500\tval_acc=0.941000\n",
      "Epoch 39\tloss=0.080488\tval_loss=0.219828\tacc=0.982667\tval_acc=0.939000\n",
      "Epoch 40\tloss=0.078537\tval_loss=0.215970\tacc=0.984500\tval_acc=0.940000\n",
      "Epoch 41\tloss=0.075392\tval_loss=0.216712\tacc=0.986167\tval_acc=0.940000\n",
      "Epoch 42\tloss=0.072634\tval_loss=0.218071\tacc=0.984833\tval_acc=0.944000\n",
      "Epoch 43\tloss=0.070481\tval_loss=0.218228\tacc=0.985833\tval_acc=0.941000\n",
      "Epoch 44\tloss=0.069621\tval_loss=0.217566\tacc=0.985833\tval_acc=0.941000\n",
      "Epoch 45\tloss=0.065891\tval_loss=0.216375\tacc=0.988000\tval_acc=0.938000\n",
      "Epoch 46\tloss=0.063525\tval_loss=0.215102\tacc=0.989833\tval_acc=0.942000\n",
      "Epoch 47\tloss=0.061420\tval_loss=0.214393\tacc=0.989500\tval_acc=0.939000\n",
      "Epoch 48\tloss=0.060039\tval_loss=0.211609\tacc=0.989667\tval_acc=0.941000\n",
      "Epoch 49\tloss=0.058387\tval_loss=0.215421\tacc=0.989833\tval_acc=0.940000\n",
      "Epoch 50\tloss=0.057319\tval_loss=0.215358\tacc=0.989667\tval_acc=0.939000\n",
      "Epoch 51\tloss=0.053968\tval_loss=0.211741\tacc=0.990833\tval_acc=0.940000\n",
      "Epoch 52\tloss=0.052471\tval_loss=0.211760\tacc=0.992167\tval_acc=0.940000\n",
      "Epoch 53\tloss=0.051584\tval_loss=0.213782\tacc=0.992167\tval_acc=0.941000\n",
      "Epoch 54\tloss=0.049399\tval_loss=0.212894\tacc=0.992500\tval_acc=0.940000\n",
      "Epoch 55\tloss=0.048976\tval_loss=0.216272\tacc=0.991500\tval_acc=0.940000\n",
      "Epoch 56\tloss=0.046503\tval_loss=0.217391\tacc=0.993167\tval_acc=0.943000\n",
      "Epoch 57\tloss=0.044943\tval_loss=0.214831\tacc=0.993333\tval_acc=0.940000\n",
      "Epoch 58\tloss=0.044068\tval_loss=0.209755\tacc=0.994000\tval_acc=0.940000\n",
      "Epoch 59\tloss=0.043704\tval_loss=0.214402\tacc=0.993833\tval_acc=0.942000\n",
      "Epoch 60\tloss=0.041373\tval_loss=0.215064\tacc=0.994333\tval_acc=0.942000\n",
      "Epoch 61\tloss=0.039884\tval_loss=0.215123\tacc=0.994667\tval_acc=0.942000\n",
      "Epoch 62\tloss=0.038944\tval_loss=0.214191\tacc=0.995167\tval_acc=0.943000\n",
      "Epoch 63\tloss=0.038786\tval_loss=0.211443\tacc=0.995167\tval_acc=0.941000\n",
      "Epoch 64\tloss=0.035906\tval_loss=0.212282\tacc=0.995667\tval_acc=0.943000\n",
      "Epoch 65\tloss=0.035023\tval_loss=0.211508\tacc=0.996000\tval_acc=0.943000\n",
      "Epoch 66\tloss=0.034072\tval_loss=0.213028\tacc=0.996667\tval_acc=0.941000\n",
      "Epoch 67\tloss=0.033800\tval_loss=0.214389\tacc=0.996167\tval_acc=0.940000\n",
      "Epoch 68\tloss=0.033043\tval_loss=0.211594\tacc=0.996000\tval_acc=0.942000\n",
      "Epoch 69\tloss=0.032345\tval_loss=0.217008\tacc=0.996833\tval_acc=0.945000\n",
      "Epoch 70\tloss=0.030842\tval_loss=0.214525\tacc=0.997333\tval_acc=0.938000\n",
      "Epoch 71\tloss=0.029466\tval_loss=0.214749\tacc=0.997667\tval_acc=0.941000\n",
      "Epoch 72\tloss=0.029181\tval_loss=0.215494\tacc=0.997333\tval_acc=0.942000\n",
      "Epoch 73\tloss=0.028731\tval_loss=0.214953\tacc=0.997333\tval_acc=0.945000\n",
      "Epoch 74\tloss=0.027494\tval_loss=0.217780\tacc=0.997667\tval_acc=0.943000\n",
      "Epoch 75\tloss=0.026663\tval_loss=0.214273\tacc=0.998500\tval_acc=0.943000\n",
      "Epoch 76\tloss=0.025763\tval_loss=0.214216\tacc=0.998333\tval_acc=0.944000\n",
      "Epoch 77\tloss=0.026771\tval_loss=0.216417\tacc=0.997167\tval_acc=0.945000\n",
      "Epoch 78\tloss=0.024831\tval_loss=0.216609\tacc=0.998500\tval_acc=0.945000\n",
      "Epoch 79\tloss=0.023900\tval_loss=0.217181\tacc=0.998667\tval_acc=0.944000\n",
      "Epoch 80\tloss=0.023149\tval_loss=0.215628\tacc=0.998667\tval_acc=0.944000\n",
      "Epoch 81\tloss=0.022977\tval_loss=0.217689\tacc=0.998833\tval_acc=0.944000\n",
      "Epoch 82\tloss=0.022005\tval_loss=0.216161\tacc=0.998667\tval_acc=0.943000\n",
      "Epoch 83\tloss=0.022055\tval_loss=0.216438\tacc=0.998500\tval_acc=0.945000\n",
      "Epoch 84\tloss=0.021245\tval_loss=0.217908\tacc=0.998667\tval_acc=0.945000\n",
      "Epoch 85\tloss=0.020911\tval_loss=0.219078\tacc=0.998667\tval_acc=0.943000\n",
      "Epoch 86\tloss=0.020070\tval_loss=0.216671\tacc=0.999333\tval_acc=0.944000\n",
      "Epoch 87\tloss=0.019866\tval_loss=0.220934\tacc=0.999000\tval_acc=0.944000\n",
      "Epoch 88\tloss=0.019226\tval_loss=0.218545\tacc=0.999167\tval_acc=0.944000\n",
      "Epoch 89\tloss=0.019299\tval_loss=0.219300\tacc=0.999333\tval_acc=0.942000\n",
      "Epoch 90\tloss=0.018531\tval_loss=0.217884\tacc=0.999167\tval_acc=0.943000\n",
      "Epoch 91\tloss=0.018119\tval_loss=0.218580\tacc=0.999500\tval_acc=0.945000\n",
      "Epoch 92\tloss=0.017670\tval_loss=0.220574\tacc=0.999500\tval_acc=0.944000\n",
      "Epoch 93\tloss=0.017461\tval_loss=0.220140\tacc=0.999500\tval_acc=0.946000\n",
      "Epoch 94\tloss=0.017529\tval_loss=0.222960\tacc=0.999333\tval_acc=0.944000\n",
      "Epoch 95\tloss=0.016726\tval_loss=0.222169\tacc=0.999500\tval_acc=0.945000\n",
      "Epoch 96\tloss=0.016193\tval_loss=0.222014\tacc=0.999333\tval_acc=0.945000\n",
      "Epoch 97\tloss=0.015581\tval_loss=0.220916\tacc=0.999500\tval_acc=0.945000\n",
      "Epoch 98\tloss=0.015346\tval_loss=0.222459\tacc=0.999500\tval_acc=0.946000\n",
      "Epoch 99\tloss=0.014920\tval_loss=0.220358\tacc=0.999667\tval_acc=0.945000\n",
      "Epoch 100\tloss=0.014581\tval_loss=0.223138\tacc=0.999833\tval_acc=0.944000\n"
     ]
    }
   ],
   "source": [
    "import sys\n",
    "sys.path.append(\"..\")\n",
    "\n",
    "from models import Sequential\n",
    "from layers import Linear, ReLU, Softmax\n",
    "from losses import CategoricalCrossentropy\n",
    "from metrics import categorical_accuracy\n",
    "from optimizers import SGD\n",
    "\n",
    "# create the model\n",
    "model = Sequential()\n",
    "model.add(Linear(128, input_shape=(784,)))\n",
    "model.add(ReLU())\n",
    "model.add(Linear(64))\n",
    "model.add(ReLU())\n",
    "model.add(Linear(10))\n",
    "model.add(Softmax())\n",
    "\n",
    "# using SGD with no momentum\n",
    "model.configure(loss=CategoricalCrossentropy(),\n",
    "                optimizer=SGD(learning_rate=0.01),\n",
    "                metrics={\"acc\": categorical_accuracy})\n",
    "\n",
    "# train the model\n",
    "history = model.train(X_train_normalized, y_train_one_hot,\n",
    "                          X_test_normalized, y_test_one_hot, epochs=100)"
   ]
  },
  {
   "cell_type": "code",
   "execution_count": 10,
   "metadata": {},
   "outputs": [
    {
     "name": "stdout",
     "output_type": "stream",
     "text": [
      "Epoch 01\tloss=0.547368\tval_loss=0.614985\tacc=0.858167\tval_acc=0.812000\n",
      "Epoch 02\tloss=0.387522\tval_loss=0.464307\tacc=0.901333\tval_acc=0.866000\n",
      "Epoch 03\tloss=0.323076\tval_loss=0.402597\tacc=0.918167\tval_acc=0.883000\n",
      "Epoch 04\tloss=0.275632\tval_loss=0.359862\tacc=0.927333\tval_acc=0.894000\n",
      "Epoch 05\tloss=0.243333\tval_loss=0.330428\tacc=0.939667\tval_acc=0.906000\n",
      "Epoch 06\tloss=0.219510\tval_loss=0.309905\tacc=0.945500\tval_acc=0.909000\n",
      "Epoch 07\tloss=0.199819\tval_loss=0.296841\tacc=0.949667\tval_acc=0.918000\n",
      "Epoch 08\tloss=0.184208\tval_loss=0.285453\tacc=0.952833\tval_acc=0.917000\n",
      "Epoch 09\tloss=0.170375\tval_loss=0.273864\tacc=0.955333\tval_acc=0.920000\n",
      "Epoch 10\tloss=0.158187\tval_loss=0.262937\tacc=0.960500\tval_acc=0.926000\n",
      "Epoch 11\tloss=0.148575\tval_loss=0.253145\tacc=0.963000\tval_acc=0.924000\n",
      "Epoch 12\tloss=0.139891\tval_loss=0.249008\tacc=0.964000\tval_acc=0.932000\n",
      "Epoch 13\tloss=0.130781\tval_loss=0.240830\tacc=0.967500\tval_acc=0.932000\n",
      "Epoch 14\tloss=0.122556\tval_loss=0.236516\tacc=0.969833\tval_acc=0.933000\n",
      "Epoch 15\tloss=0.114732\tval_loss=0.231736\tacc=0.973333\tval_acc=0.929000\n",
      "Epoch 16\tloss=0.107891\tval_loss=0.224551\tacc=0.975333\tval_acc=0.933000\n",
      "Epoch 17\tloss=0.102626\tval_loss=0.222811\tacc=0.976500\tval_acc=0.932000\n",
      "Epoch 18\tloss=0.099840\tval_loss=0.218262\tacc=0.976500\tval_acc=0.936000\n",
      "Epoch 19\tloss=0.094615\tval_loss=0.213181\tacc=0.977500\tval_acc=0.934000\n",
      "Epoch 20\tloss=0.088503\tval_loss=0.210793\tacc=0.980167\tval_acc=0.936000\n",
      "Epoch 21\tloss=0.082934\tval_loss=0.205923\tacc=0.982167\tval_acc=0.935000\n",
      "Epoch 22\tloss=0.079002\tval_loss=0.205487\tacc=0.982667\tval_acc=0.937000\n",
      "Epoch 23\tloss=0.074794\tval_loss=0.201669\tacc=0.983667\tval_acc=0.938000\n",
      "Epoch 24\tloss=0.071933\tval_loss=0.199776\tacc=0.983833\tval_acc=0.938000\n",
      "Epoch 25\tloss=0.067734\tval_loss=0.199836\tacc=0.986167\tval_acc=0.941000\n",
      "Epoch 26\tloss=0.065247\tval_loss=0.197338\tacc=0.987667\tval_acc=0.941000\n",
      "Epoch 27\tloss=0.061246\tval_loss=0.192586\tacc=0.987500\tval_acc=0.941000\n",
      "Epoch 28\tloss=0.058690\tval_loss=0.191192\tacc=0.989333\tval_acc=0.940000\n",
      "Epoch 29\tloss=0.055873\tval_loss=0.188948\tacc=0.989667\tval_acc=0.943000\n",
      "Epoch 30\tloss=0.054229\tval_loss=0.189625\tacc=0.989667\tval_acc=0.942000\n",
      "Epoch 31\tloss=0.051050\tval_loss=0.185400\tacc=0.991167\tval_acc=0.944000\n",
      "Epoch 32\tloss=0.048575\tval_loss=0.184458\tacc=0.991500\tval_acc=0.946000\n",
      "Epoch 33\tloss=0.046691\tval_loss=0.183051\tacc=0.991500\tval_acc=0.944000\n",
      "Epoch 34\tloss=0.045283\tval_loss=0.181961\tacc=0.991667\tval_acc=0.943000\n",
      "Epoch 35\tloss=0.043484\tval_loss=0.183464\tacc=0.992333\tval_acc=0.943000\n",
      "Epoch 36\tloss=0.041497\tval_loss=0.180003\tacc=0.992333\tval_acc=0.942000\n",
      "Epoch 37\tloss=0.040007\tval_loss=0.178063\tacc=0.993000\tval_acc=0.940000\n",
      "Epoch 38\tloss=0.038101\tval_loss=0.179982\tacc=0.994000\tval_acc=0.944000\n",
      "Epoch 39\tloss=0.035824\tval_loss=0.178316\tacc=0.994500\tval_acc=0.943000\n",
      "Epoch 40\tloss=0.034459\tval_loss=0.179270\tacc=0.994833\tval_acc=0.943000\n",
      "Epoch 41\tloss=0.033136\tval_loss=0.178628\tacc=0.995333\tval_acc=0.943000\n",
      "Epoch 42\tloss=0.032284\tval_loss=0.174465\tacc=0.995333\tval_acc=0.944000\n",
      "Epoch 43\tloss=0.031136\tval_loss=0.175497\tacc=0.995333\tval_acc=0.944000\n",
      "Epoch 44\tloss=0.029585\tval_loss=0.176724\tacc=0.995667\tval_acc=0.945000\n",
      "Epoch 45\tloss=0.028640\tval_loss=0.175414\tacc=0.996333\tval_acc=0.947000\n",
      "Epoch 46\tloss=0.027796\tval_loss=0.174907\tacc=0.996167\tval_acc=0.945000\n",
      "Epoch 47\tloss=0.028196\tval_loss=0.177894\tacc=0.996000\tval_acc=0.943000\n",
      "Epoch 48\tloss=0.026750\tval_loss=0.175013\tacc=0.996500\tval_acc=0.948000\n",
      "Epoch 49\tloss=0.025943\tval_loss=0.174108\tacc=0.995833\tval_acc=0.944000\n",
      "Epoch 50\tloss=0.024852\tval_loss=0.172553\tacc=0.996833\tval_acc=0.948000\n",
      "Epoch 51\tloss=0.023724\tval_loss=0.173102\tacc=0.997000\tval_acc=0.948000\n",
      "Epoch 52\tloss=0.022632\tval_loss=0.175850\tacc=0.997667\tval_acc=0.947000\n",
      "Epoch 53\tloss=0.022235\tval_loss=0.175451\tacc=0.997333\tval_acc=0.947000\n",
      "Epoch 54\tloss=0.021108\tval_loss=0.177720\tacc=0.998000\tval_acc=0.948000\n",
      "Epoch 55\tloss=0.020711\tval_loss=0.175128\tacc=0.998333\tval_acc=0.947000\n",
      "Epoch 56\tloss=0.019821\tval_loss=0.172452\tacc=0.998167\tval_acc=0.947000\n",
      "Epoch 57\tloss=0.019316\tval_loss=0.175265\tacc=0.998333\tval_acc=0.951000\n",
      "Epoch 58\tloss=0.018443\tval_loss=0.174747\tacc=0.998333\tval_acc=0.948000\n",
      "Epoch 59\tloss=0.018023\tval_loss=0.173344\tacc=0.998333\tval_acc=0.949000\n",
      "Epoch 60\tloss=0.017308\tval_loss=0.171979\tacc=0.998167\tval_acc=0.947000\n",
      "Epoch 61\tloss=0.016543\tval_loss=0.169485\tacc=0.998667\tval_acc=0.949000\n",
      "Epoch 62\tloss=0.016096\tval_loss=0.171877\tacc=0.998667\tval_acc=0.952000\n",
      "Epoch 63\tloss=0.015673\tval_loss=0.170359\tacc=0.998833\tval_acc=0.947000\n",
      "Epoch 64\tloss=0.015194\tval_loss=0.172637\tacc=0.999000\tval_acc=0.949000\n",
      "Epoch 65\tloss=0.014843\tval_loss=0.169687\tacc=0.998833\tval_acc=0.948000\n",
      "Epoch 66\tloss=0.014761\tval_loss=0.169655\tacc=0.998833\tval_acc=0.949000\n",
      "Epoch 67\tloss=0.014201\tval_loss=0.170534\tacc=0.998833\tval_acc=0.950000\n",
      "Epoch 68\tloss=0.013756\tval_loss=0.170709\tacc=0.998833\tval_acc=0.951000\n",
      "Epoch 69\tloss=0.013280\tval_loss=0.171493\tacc=0.999167\tval_acc=0.949000\n",
      "Epoch 70\tloss=0.012815\tval_loss=0.171139\tacc=0.999000\tval_acc=0.952000\n",
      "Epoch 71\tloss=0.012629\tval_loss=0.172450\tacc=0.999000\tval_acc=0.951000\n",
      "Epoch 72\tloss=0.012334\tval_loss=0.171986\tacc=0.999000\tval_acc=0.952000\n",
      "Epoch 73\tloss=0.011975\tval_loss=0.171587\tacc=0.999000\tval_acc=0.950000\n",
      "Epoch 74\tloss=0.011558\tval_loss=0.170209\tacc=0.999000\tval_acc=0.950000\n",
      "Epoch 75\tloss=0.011251\tval_loss=0.170834\tacc=0.999000\tval_acc=0.955000\n",
      "Epoch 76\tloss=0.010862\tval_loss=0.170010\tacc=0.999167\tval_acc=0.951000\n",
      "Epoch 77\tloss=0.010621\tval_loss=0.170178\tacc=0.999167\tval_acc=0.950000\n",
      "Epoch 78\tloss=0.010351\tval_loss=0.169249\tacc=0.999167\tval_acc=0.950000\n",
      "Epoch 79\tloss=0.010318\tval_loss=0.170126\tacc=0.999333\tval_acc=0.953000\n",
      "Epoch 80\tloss=0.009861\tval_loss=0.167375\tacc=0.999167\tval_acc=0.953000\n",
      "Epoch 81\tloss=0.009674\tval_loss=0.169454\tacc=0.999000\tval_acc=0.952000\n",
      "Epoch 82\tloss=0.009584\tval_loss=0.170400\tacc=0.999333\tval_acc=0.950000\n",
      "Epoch 83\tloss=0.009342\tval_loss=0.170595\tacc=0.999000\tval_acc=0.949000\n",
      "Epoch 84\tloss=0.008961\tval_loss=0.168936\tacc=0.999333\tval_acc=0.949000\n",
      "Epoch 85\tloss=0.008903\tval_loss=0.168821\tacc=0.999333\tval_acc=0.950000\n",
      "Epoch 86\tloss=0.008546\tval_loss=0.168155\tacc=0.999500\tval_acc=0.949000\n",
      "Epoch 87\tloss=0.008370\tval_loss=0.170735\tacc=0.999500\tval_acc=0.951000\n",
      "Epoch 88\tloss=0.008112\tval_loss=0.169999\tacc=0.999500\tval_acc=0.951000\n",
      "Epoch 89\tloss=0.007891\tval_loss=0.170133\tacc=0.999667\tval_acc=0.947000\n",
      "Epoch 90\tloss=0.007815\tval_loss=0.173441\tacc=0.999500\tval_acc=0.950000\n",
      "Epoch 91\tloss=0.007618\tval_loss=0.170423\tacc=0.999833\tval_acc=0.951000\n",
      "Epoch 92\tloss=0.007397\tval_loss=0.171188\tacc=0.999833\tval_acc=0.950000\n",
      "Epoch 93\tloss=0.007220\tval_loss=0.170179\tacc=1.000000\tval_acc=0.948000\n",
      "Epoch 94\tloss=0.007062\tval_loss=0.170747\tacc=1.000000\tval_acc=0.950000\n",
      "Epoch 95\tloss=0.006997\tval_loss=0.171177\tacc=1.000000\tval_acc=0.948000\n",
      "Epoch 96\tloss=0.006758\tval_loss=0.170769\tacc=1.000000\tval_acc=0.951000\n",
      "Epoch 97\tloss=0.006606\tval_loss=0.170117\tacc=0.999833\tval_acc=0.952000\n",
      "Epoch 98\tloss=0.007623\tval_loss=0.171023\tacc=0.999833\tval_acc=0.950000\n",
      "Epoch 99\tloss=0.007113\tval_loss=0.169940\tacc=1.000000\tval_acc=0.948000\n",
      "Epoch 100\tloss=0.006928\tval_loss=0.168059\tacc=0.999833\tval_acc=0.951000\n"
     ]
    }
   ],
   "source": [
    "from layers import BatchNormalization\n",
    "\n",
    "# create the model\n",
    "model = Sequential()\n",
    "model.add(Linear(128, input_shape=(784,)))\n",
    "model.add(ReLU())\n",
    "model.add(BatchNormalization())\n",
    "model.add(Linear(64))\n",
    "model.add(ReLU())\n",
    "model.add(BatchNormalization())\n",
    "model.add(Linear(10))\n",
    "model.add(Softmax())\n",
    "\n",
    "# using SGD with no momentum\n",
    "model.configure(loss=CategoricalCrossentropy(),\n",
    "                optimizer=SGD(learning_rate=0.01),\n",
    "                metrics={\"acc\": categorical_accuracy})\n",
    "\n",
    "# train the model\n",
    "bn_history = model.train(X_train_normalized, y_train_one_hot,\n",
    "                          X_test_normalized, y_test_one_hot, epochs=100)"
   ]
  },
  {
   "cell_type": "code",
   "execution_count": 11,
   "metadata": {},
   "outputs": [
    {
     "data": {
      "image/png": "[encoded data removed]",
      "text/plain": [
       "<Figure size 576x432 with 1 Axes>"
      ]
     },
     "metadata": {},
     "output_type": "display_data"
    }
   ],
   "source": [
    "epochs = np.arange(1, 101)\n",
    "plt.style.use('ggplot')\n",
    "plt.figure(figsize=(8, 6))\n",
    "plt.plot(epochs, [e['loss'] for e in history], c='k', label='Without Batch Norm')\n",
    "plt.plot(epochs, [e['loss'] for e in bn_history], c='r', label='With Batch Norm')\n",
    "plt.legend()\n",
    "plt.title(\"Batch Normalization Effect on Training\")\n",
    "plt.xlabel(\"Epochs\")\n",
    "plt.ylabel(\"Loss\")\n",
    "plt.show();"
   ]
  }
 ],
 "metadata": {
  "kernelspec": {
   "display_name": "Python 3.7.3 64-bit",
   "language": "python",
   "name": "python37364bit5171d068c3054b8f80dd7b7dde0249a4"
  },
  "language_info": {
   "codemirror_mode": {
    "name": "ipython",
    "version": 3
   },
   "file_extension": ".py",
   "mimetype": "text/x-python",
   "name": "python",
   "nbconvert_exporter": "python",
   "pygments_lexer": "ipython3",
   "version": "3.7.3"
  }
 },
 "nbformat": 4,
 "nbformat_minor": 2
}
